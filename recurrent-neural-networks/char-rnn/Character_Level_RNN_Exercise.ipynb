{
  "nbformat": 4,
  "nbformat_minor": 0,
  "metadata": {
    "kernelspec": {
      "display_name": "Python 3.7.5 64-bit ('deep-learning-v2-pytorch': pipenv)",
      "language": "python",
      "name": "python37564bitdeeplearningv2pytorchpipenv228bb8fd2b7044fc95b1a54da7d30e8a"
    },
    "language_info": {
      "codemirror_mode": {
        "name": "ipython",
        "version": 3
      },
      "file_extension": ".py",
      "mimetype": "text/x-python",
      "name": "python",
      "nbconvert_exporter": "python",
      "pygments_lexer": "ipython3",
      "version": "3.7.5-final"
    },
    "colab": {
      "name": "Character_Level_RNN_Exercise.ipynb",
      "provenance": []
    },
    "accelerator": "GPU"
  },
  "cells": [
    {
      "cell_type": "markdown",
      "metadata": {
        "id": "IAFrW7HohGbC",
        "colab_type": "text"
      },
      "source": [
        "# Character-Level LSTM in PyTorch\n",
        "\n",
        "In this notebook, I'll construct a character-level LSTM with PyTorch. The network will train character by character on some text, then generate new text character by character. As an example, I will train on Anna Karenina. **This model will be able to generate new text based on the text from the book!**\n",
        "\n",
        "This network is based off of Andrej Karpathy's [post on RNNs](http://karpathy.github.io/2015/05/21/rnn-effectiveness/) and [implementation in Torch](https://github.com/karpathy/char-rnn). Below is the general architecture of the character-wise RNN.\n",
        "<img src=\n",
        "./<img src=\"https://github.com/olivetom/deep-learning-v2-pytorch/blob/master/recurrent-neural-networks/char-rnn/assets/charseq.jpeg?raw=1\" width=\"500\">"
      ]
    },
    {
      "cell_type": "markdown",
      "metadata": {
        "id": "a4SQUWRGhGbF",
        "colab_type": "text"
      },
      "source": [
        "First let's load in our required resources for data loading and model creation."
      ]
    },
    {
      "cell_type": "code",
      "metadata": {
        "id": "_vnZZCsZhGbM",
        "colab_type": "code",
        "colab": {}
      },
      "source": [
        "import numpy as np\n",
        "import torch\n",
        "from torch import nn\n",
        "import torch.nn.functional as F"
      ],
      "execution_count": 0,
      "outputs": []
    },
    {
      "cell_type": "markdown",
      "metadata": {
        "id": "28bgtTj_hGbV",
        "colab_type": "text"
      },
      "source": [
        "## Load in Data\n",
        "\n",
        "Then, we'll load the Anna Karenina text file and convert it into integers for our network to use. "
      ]
    },
    {
      "cell_type": "code",
      "metadata": {
        "id": "uUQlTRHehGbc",
        "colab_type": "code",
        "colab": {}
      },
      "source": [
        "# open text file and read in data as `text`\n",
        "with open('data/anna.txt', 'r') as f:\n",
        "    text = f.read()"
      ],
      "execution_count": 0,
      "outputs": []
    },
    {
      "cell_type": "markdown",
      "metadata": {
        "id": "TmUd23fvhGbm",
        "colab_type": "text"
      },
      "source": [
        "Let's check out the first 100 characters, make sure everything is peachy. According to the [American Book Review](http://americanbookreview.org/100bestlines.asp), this is the 6th best first line of a book ever."
      ]
    },
    {
      "cell_type": "code",
      "metadata": {
        "id": "E4s3gZUShGbs",
        "colab_type": "code",
        "colab": {
          "base_uri": "https://localhost:8080/",
          "height": 51
        },
        "outputId": "190a3e1f-bcb6-4f77-b0bf-893ee70846c1"
      },
      "source": [
        "print(len(text))\n",
        "text[:100]"
      ],
      "execution_count": 5,
      "outputs": [
        {
          "output_type": "stream",
          "text": [
            "1985223\n"
          ],
          "name": "stdout"
        },
        {
          "output_type": "execute_result",
          "data": {
            "text/plain": [
              "'Chapter 1\\n\\n\\nHappy families are all alike; every unhappy family is unhappy in its own\\nway.\\n\\nEverythin'"
            ]
          },
          "metadata": {
            "tags": []
          },
          "execution_count": 5
        }
      ]
    },
    {
      "cell_type": "markdown",
      "metadata": {
        "id": "UfRLVYdLhGcL",
        "colab_type": "text"
      },
      "source": [
        "### Tokenization\n",
        "\n",
        "In the cells, below, I'm creating a couple **dictionaries** to convert the characters to and from integers. Encoding the characters as integers makes it easier to use as input in the network."
      ]
    },
    {
      "cell_type": "code",
      "metadata": {
        "id": "X6V_hHjqhGcR",
        "colab_type": "code",
        "colab": {}
      },
      "source": [
        "# encode the text and map each character to an integer and vice versa\n",
        "\n",
        "# we create two dictionaries:\n",
        "# 1. int2char, which maps integers to characters\n",
        "# 2. char2int, which maps characters to unique integers\n",
        "chars = tuple(set(text))\n",
        "int2char = dict(enumerate(chars))\n",
        "char2int = {ch: ii for ii, ch in int2char.items()}\n",
        "\n",
        "# encode the text\n",
        "encoded = np.array([char2int[ch] for ch in text])"
      ],
      "execution_count": 0,
      "outputs": []
    },
    {
      "cell_type": "markdown",
      "metadata": {
        "id": "gBQVVKRhhGcX",
        "colab_type": "text"
      },
      "source": [
        "And we can see those same characters from above, encoded as integers."
      ]
    },
    {
      "cell_type": "code",
      "metadata": {
        "id": "tz8KyAWChGce",
        "colab_type": "code",
        "colab": {
          "base_uri": "https://localhost:8080/",
          "height": 119
        },
        "outputId": "222895bc-150f-4f4e-e3db-1eb8ff58db1b"
      },
      "source": [
        "encoded[:100]"
      ],
      "execution_count": 7,
      "outputs": [
        {
          "output_type": "execute_result",
          "data": {
            "text/plain": [
              "array([29, 40,  9,  8, 52, 35, 72,  0,  5, 56, 56, 56, 57,  9,  8,  8, 43,\n",
              "        0, 44,  9, 73, 21, 74, 21, 35, 12,  0,  9, 72, 35,  0,  9, 74, 74,\n",
              "        0,  9, 74, 21,  1, 35, 64,  0, 35, 82, 35, 72, 43,  0, 22, 79, 40,\n",
              "        9,  8,  8, 43,  0, 44,  9, 73, 21, 74, 43,  0, 21, 12,  0, 22, 79,\n",
              "       40,  9,  8,  8, 43,  0, 21, 79,  0, 21, 52, 12,  0, 28, 75, 79, 56,\n",
              "       75,  9, 43, 37, 56, 56, 30, 82, 35, 72, 43, 52, 40, 21, 79])"
            ]
          },
          "metadata": {
            "tags": []
          },
          "execution_count": 7
        }
      ]
    },
    {
      "cell_type": "markdown",
      "metadata": {
        "id": "_mFz5-fWhGd0",
        "colab_type": "text"
      },
      "source": [
        "## Pre-processing the data\n",
        "\n",
        "As you can see in our char-RNN image above, our LSTM expects an input that is **one-hot encoded** meaning that each character is converted into an integer (via our created dictionary) and *then* converted into a column vector where only it's corresponding integer index will have the value of 1 and the rest of the vector will be filled with 0's. Since we're one-hot encoding the data, let's make a function to do that!\n"
      ]
    },
    {
      "cell_type": "code",
      "metadata": {
        "id": "Yewwmtg2hGd8",
        "colab_type": "code",
        "colab": {}
      },
      "source": [
        "def one_hot_encode(arr, n_labels):\n",
        "    \n",
        "    # Initialize the the encoded array\n",
        "    one_hot = np.zeros((arr.size, n_labels), dtype=np.float32)\n",
        "    \n",
        "    # Fill the appropriate elements with ones\n",
        "    one_hot[np.arange(one_hot.shape[0]), arr.flatten()] = 1.\n",
        "    \n",
        "    # Finally reshape it to get back to the original array\n",
        "    one_hot = one_hot.reshape((*arr.shape, n_labels))\n",
        "    \n",
        "    return one_hot"
      ],
      "execution_count": 0,
      "outputs": []
    },
    {
      "cell_type": "code",
      "metadata": {
        "id": "lNBXdHGEhGeE",
        "colab_type": "code",
        "colab": {
          "base_uri": "https://localhost:8080/",
          "height": 68
        },
        "outputId": "1118e4d2-64d0-4762-c621-9108f846b43d"
      },
      "source": [
        "# check that the function works as expected\n",
        "test_seq = np.array([[3, 5, 1]])\n",
        "one_hot = one_hot_encode(test_seq, 8)\n",
        "print(one_hot)"
      ],
      "execution_count": 9,
      "outputs": [
        {
          "output_type": "stream",
          "text": [
            "[[[0. 0. 0. 1. 0. 0. 0. 0.]\n",
            "  [0. 0. 0. 0. 0. 1. 0. 0.]\n",
            "  [0. 1. 0. 0. 0. 0. 0. 0.]]]\n"
          ],
          "name": "stdout"
        }
      ]
    },
    {
      "cell_type": "markdown",
      "metadata": {
        "id": "H4wU8-NThGeJ",
        "colab_type": "text"
      },
      "source": [
        "## Making training mini-batches\n",
        "\n",
        "\n",
        "To train on this data, we also want to create mini-batches for training. Remember that we want our batches to be multiple sequences of some desired number of sequence steps. Considering a simple example, our batches would look like this:\n",
        "\n",
        "<img src=\"https://github.com/olivetom/deep-learning-v2-pytorch/blob/master/recurrent-neural-networks/char-rnn/assets/sequence_batching@1x.png?raw=1\" width=500px>\n",
        "\n",
        "\n",
        "<br>\n",
        "\n",
        "In this example, we'll take the encoded characters (passed in as the `arr` parameter) and split them into multiple sequences, given by `batch_size`. Each of our sequences will be `seq_length` long.\n",
        "\n",
        "### Creating Batches\n",
        "\n",
        "**1. The first thing we need to do is discard some of the text so we only have completely full mini-batches. **\n",
        "\n",
        "Each batch contains $N \\times M$ characters, where $N$ is the batch size (the number of sequences in a batch) and $M$ is the seq_length or number of time steps in a sequence. Then, to get the total number of batches, $K$, that we can make from the array `arr`, you divide the length of `arr` by the number of characters per batch. Once you know the number of batches, you can get the total number of characters to keep from `arr`, $N * M * K$.\n",
        "\n",
        "**2. After that, we need to split `arr` into $N$ batches. ** \n",
        "\n",
        "You can do this using `arr.reshape(size)` where `size` is a tuple containing the dimensions sizes of the reshaped array. We know we want $N$ sequences in a batch, so let's make that the size of the first dimension. For the second dimension, you can use `-1` as a placeholder in the size, it'll fill up the array with the appropriate data for you. After this, you should have an array that is $N \\times (M * K)$.\n",
        "\n",
        "**3. Now that we have this array, we can iterate through it to get our mini-batches. **\n",
        "\n",
        "The idea is each batch is a $N \\times M$ window on the $N \\times (M * K)$ array. For each subsequent batch, the window moves over by `seq_length`. We also want to create both the input and target arrays. Remember that the targets are just the inputs shifted over by one character. The way I like to do this window is use `range` to take steps of size `n_steps` from $0$ to `arr.shape[1]`, the total number of tokens in each sequence. That way, the integers you get from `range` always point to the start of a batch, and each window is `seq_length` wide.\n",
        "\n",
        "> **TODO:** Write the code for creating batches in the function below. The exercises in this notebook _will not be easy_. I've provided a notebook with solutions alongside this notebook. If you get stuck, checkout the solutions. The most important thing is that you don't copy and paste the code into here, **type out the solution code yourself.**"
      ]
    },
    {
      "cell_type": "code",
      "metadata": {
        "id": "n2BtYzOFhGeL",
        "colab_type": "code",
        "colab": {}
      },
      "source": [
        "def get_batches(arr, batch_size, seq_length):\n",
        "    '''Create a generator that returns batches of size\n",
        "       batch_size x seq_length from arr.\n",
        "       \n",
        "       Arguments\n",
        "       ---------\n",
        "       arr: Array you want to make batches from\n",
        "       batch_size: Batch size, the number of sequences per batch\n",
        "       seq_length: Number of encoded chars in a sequence\n",
        "    '''\n",
        "    batch_size_total = batch_size * seq_length\n",
        "    # total number of batches we can make\n",
        "    n_batches = len(arr)//batch_size_total\n",
        "    \n",
        "    # Keep only enough characters to make full batches\n",
        "    arr = arr[:n_batches * batch_size_total]\n",
        "    # Reshape into batch_size rows\n",
        "    arr = arr.reshape((batch_size, -1))\n",
        "    #print(arr.shape)\n",
        "    # iterate through the array, one sequence at a time\n",
        "    for n in range(0, arr.shape[1], seq_length):\n",
        "        # The features\n",
        "        x = arr[:, n:n+seq_length]\n",
        "        # The targets, shifted by one\n",
        "        y = np.zeros_like(x)\n",
        "        try:\n",
        "            y[:, :-1], y[:, -1] = x[:, 1:], arr[:, n+seq_length]\n",
        "        except IndexError:\n",
        "            y[:, :-1], y[:, -1] = x[:, 1:], arr[:, 0]\n",
        "        yield x, y\n",
        "   "
      ],
      "execution_count": 0,
      "outputs": []
    },
    {
      "cell_type": "markdown",
      "metadata": {
        "id": "PaRzgGXYhGeU",
        "colab_type": "text"
      },
      "source": [
        "### Test Your Implementation\n",
        "\n",
        "Now I'll make some data sets and we can check out what's going on as we batch data. Here, as an example, I'm going to use a batch size of 8 and 50 sequence steps."
      ]
    },
    {
      "cell_type": "code",
      "metadata": {
        "id": "9bnrjDTjhGeV",
        "colab_type": "code",
        "colab": {
          "base_uri": "https://localhost:8080/",
          "height": 51
        },
        "outputId": "122764a6-bce9-49a0-91f9-612e986d0113"
      },
      "source": [
        "#encoded = np.array([x for x in range(1985220)])\n",
        "batches = get_batches(encoded, 8, 50)\n",
        "x, y = next(batches)\n",
        "print(encoded[:10])\n",
        "print(x.shape, y.shape)"
      ],
      "execution_count": 11,
      "outputs": [
        {
          "output_type": "stream",
          "text": [
            "[29 40  9  8 52 35 72  0  5 56]\n",
            "(8, 50) (8, 50)\n"
          ],
          "name": "stdout"
        }
      ]
    },
    {
      "cell_type": "code",
      "metadata": {
        "id": "DUbJz9ashGea",
        "colab_type": "code",
        "colab": {
          "base_uri": "https://localhost:8080/",
          "height": 680
        },
        "outputId": "ec7277d9-a17e-4b2c-89f0-dbb1c961a780"
      },
      "source": [
        "# printing out the first 10 items in a sequence\n",
        "print('x\\n', x.shape, '\\n', x[:,:5], '\\n\\n', x[:,-5:])\n",
        "print('\\ny\\n', y.shape, '\\n',y[:,:5], '\\n\\n', y[:,-5:])"
      ],
      "execution_count": 12,
      "outputs": [
        {
          "output_type": "stream",
          "text": [
            "x\n",
            " (8, 50) \n",
            " [[29 40  9  8 52]\n",
            " [12 28 79  0 52]\n",
            " [35 79  3  0 28]\n",
            " [12  0 52 40 35]\n",
            " [ 0 12  9 75  0]\n",
            " [67 22 12 12 21]\n",
            " [ 0 25 79 79  9]\n",
            " [62 70 74 28 79]] \n",
            "\n",
            " [[72 43  0 22 79]\n",
            " [ 9 79  3 37  0]\n",
            " [ 3  0 72 28 22]\n",
            " [35 32  0 28 44]\n",
            " [21 12 35 72  9]\n",
            " [35 35  9 70 74]\n",
            " [ 3  0 52 40 21]\n",
            " [43  4  0  9 72]]\n",
            "\n",
            "y\n",
            " (8, 50) \n",
            " [[40  9  8 52 35]\n",
            " [28 79  0 52 40]\n",
            " [79  3  0 28 72]\n",
            " [ 0 52 40 35  0]\n",
            " [12  9 75  0 40]\n",
            " [22 12 12 21 28]\n",
            " [25 79 79  9  0]\n",
            " [70 74 28 79 12]] \n",
            "\n",
            " [[43  0 22 79 40]\n",
            " [79  3 37  0 17]\n",
            " [ 0 72 28 22 79]\n",
            " [32  0 28 44  0]\n",
            " [12 35 72  9 70]\n",
            " [35  9 70 74 35]\n",
            " [ 0 52 40 21 12]\n",
            " [ 4  0  9 72 35]]\n"
          ],
          "name": "stdout"
        }
      ]
    },
    {
      "cell_type": "markdown",
      "metadata": {
        "id": "AfHe1fqrhGee",
        "colab_type": "text"
      },
      "source": [
        "If you implemented `get_batches` correctly, the above output should look something like \n",
        "```\n",
        "x\n",
        " [[25  8 60 11 45 27 28 73  1  2]\n",
        " [17  7 20 73 45  8 60 45 73 60]\n",
        " [27 20 80 73  7 28 73 60 73 65]\n",
        " [17 73 45  8 27 73 66  8 46 27]\n",
        " [73 17 60 12 73  8 27 28 73 45]\n",
        " [66 64 17 17 46  7 20 73 60 20]\n",
        " [73 76 20 20 60 73  8 60 80 73]\n",
        " [47 35 43  7 20 17 24 50 37 73]]\n",
        "\n",
        "y\n",
        " [[ 8 60 11 45 27 28 73  1  2  2]\n",
        " [ 7 20 73 45  8 60 45 73 60 45]\n",
        " [20 80 73  7 28 73 60 73 65  7]\n",
        " [73 45  8 27 73 66  8 46 27 65]\n",
        " [17 60 12 73  8 27 28 73 45 27]\n",
        " [64 17 17 46  7 20 73 60 20 80]\n",
        " [76 20 20 60 73  8 60 80 73 17]\n",
        " [35 43  7 20 17 24 50 37 73 36]]\n",
        " ```\n",
        " although the exact numbers may be different. Check to make sure the data is shifted over one step for `y`."
      ]
    },
    {
      "cell_type": "markdown",
      "metadata": {
        "id": "2GaOGev0hGek",
        "colab_type": "text"
      },
      "source": [
        "---\n",
        "## Defining the network with PyTorch\n",
        "\n",
        "Below is where you'll define the network.\n",
        "\n",
        "<img src=\"https://github.com/olivetom/deep-learning-v2-pytorch/blob/master/recurrent-neural-networks/char-rnn/assets/charRNN.png?raw=1\" width=500px>\n",
        "\n",
        "Next, you'll use PyTorch to define the architecture of the network. We start by defining the layers and operations we want. Then, define a method for the forward pass. You've also been given a method for predicting characters."
      ]
    },
    {
      "cell_type": "markdown",
      "metadata": {
        "id": "mThmbvl8hGel",
        "colab_type": "text"
      },
      "source": [
        "### Model Structure\n",
        "\n",
        "In `__init__` the suggested structure is as follows:\n",
        "* Create and store the necessary dictionaries (this has been done for you)\n",
        "* Define an LSTM layer that takes as params: an input size (the number of characters), a hidden layer size `n_hidden`, a number of layers `n_layers`, a dropout probability `drop_prob`, and a batch_first boolean (True, since we are batching)\n",
        "* Define a dropout layer with `drop_prob`\n",
        "* Define a fully-connected layer with params: input size `n_hidden` and output size (the number of characters)\n",
        "* Finally, initialize the weights (again, this has been given)\n",
        "\n",
        "Note that some parameters have been named and given in the `__init__` function, and we use them and store them by doing something like `self.drop_prob = drop_prob`."
      ]
    },
    {
      "cell_type": "markdown",
      "metadata": {
        "id": "Ftn4WHsQhGen",
        "colab_type": "text"
      },
      "source": [
        "---\n",
        "### LSTM Inputs/Outputs\n",
        "\n",
        "You can create a basic [LSTM layer](https://pytorch.org/docs/stable/nn.html#lstm) as follows\n",
        "\n",
        "```python\n",
        "self.lstm = nn.LSTM(input_size, n_hidden, n_layers, \n",
        "                            dropout=drop_prob, batch_first=True)\n",
        "```\n",
        "\n",
        "where `input_size` is the number of characters this cell expects to see as sequential input, and `n_hidden` is the number of units in the hidden layers in the cell. And we can add dropout by adding a dropout parameter with a specified probability; this will automatically add dropout to the inputs or outputs. Finally, in the `forward` function, we can stack up the LSTM cells into layers using `.view`. With this, you pass in a list of cells and it will send the output of one cell into the next cell.\n",
        "\n",
        "We also need to create an initial hidden state of all zeros. This is done like so\n",
        "\n",
        "```python\n",
        "self.init_hidden()\n",
        "```"
      ]
    },
    {
      "cell_type": "code",
      "metadata": {
        "id": "D80MO5BohGep",
        "colab_type": "code",
        "colab": {
          "base_uri": "https://localhost:8080/",
          "height": 34
        },
        "outputId": "cf295453-111b-4631-ea81-3fa94dd277be"
      },
      "source": [
        "# check if GPU is available\n",
        "train_on_gpu = torch.cuda.is_available()\n",
        "if(train_on_gpu):\n",
        "    print('Training on GPU!')\n",
        "else: \n",
        "    print('No GPU available, training on CPU; consider making n_epochs very small.')"
      ],
      "execution_count": 13,
      "outputs": [
        {
          "output_type": "stream",
          "text": [
            "Training on GPU!\n"
          ],
          "name": "stdout"
        }
      ]
    },
    {
      "cell_type": "code",
      "metadata": {
        "id": "K4FqpiumhGeu",
        "colab_type": "code",
        "colab": {}
      },
      "source": [
        "class CharRNN(nn.Module):\n",
        "    \n",
        "    def __init__(self, tokens, n_hidden=256, n_layers=2,\n",
        "                               drop_prob=0.5, lr=0.001):\n",
        "        super().__init__()\n",
        "        self.drop_prob = drop_prob\n",
        "        self.n_layers = n_layers\n",
        "        self.n_hidden = n_hidden\n",
        "        self.lr = lr\n",
        "        \n",
        "        # creating character dictionaries\n",
        "        self.chars = tokens\n",
        "        self.int2char = dict(enumerate(self.chars))\n",
        "        self.char2int = {ch: ii for ii, ch in self.int2char.items()}\n",
        "        \n",
        "        ## TODO: define the layers of the model\n",
        "        self.lstm = nn.LSTM(len(self.chars), n_hidden, n_layers, \n",
        "                            dropout=drop_prob, batch_first=True)\n",
        "        \n",
        "        self.dropout = nn.Dropout(drop_prob)\n",
        "        \n",
        "        self.fc = nn.Linear(n_hidden, len(self.chars))\n",
        "      \n",
        "    \n",
        "    def forward(self, x, hidden):\n",
        "        ''' Forward pass through the network. \n",
        "            These inputs are x, and the hidden/cell state `hidden`. '''\n",
        "                \n",
        "        ## TODO: Get the outputs and the new hidden state from the lstm\n",
        "        r_output, hidden = self.lstm(x, hidden)\n",
        "        out = self.dropout(r_output)\n",
        "        out = out.contiguous().view(-1, self.n_hidden)\n",
        "        out = self.fc(out)\n",
        "\n",
        "        # return the final output and the hidden state\n",
        "        return out, hidden\n",
        "    \n",
        "    \n",
        "    def init_hidden(self, batch_size):\n",
        "        ''' Initializes hidden state '''\n",
        "        # Create two new tensors with sizes n_layers x batch_size x n_hidden,\n",
        "        # initialized to zero, for hidden state and cell state of LSTM\n",
        "        weight = next(self.parameters()).data\n",
        "        \n",
        "        if (train_on_gpu):\n",
        "            hidden = (weight.new(self.n_layers, batch_size, self.n_hidden).zero_().cuda(),\n",
        "                  weight.new(self.n_layers, batch_size, self.n_hidden).zero_().cuda())\n",
        "        else:\n",
        "            hidden = (weight.new(self.n_layers, batch_size, self.n_hidden).zero_(),\n",
        "                      weight.new(self.n_layers, batch_size, self.n_hidden).zero_())\n",
        "        \n",
        "        return hidden\n",
        "        "
      ],
      "execution_count": 0,
      "outputs": []
    },
    {
      "cell_type": "markdown",
      "metadata": {
        "id": "V_jWyqbEhGez",
        "colab_type": "text"
      },
      "source": [
        "## Time to train\n",
        "\n",
        "The train function gives us the ability to set the number of epochs, the learning rate, and other parameters.\n",
        "\n",
        "Below we're using an Adam optimizer and cross entropy loss since we are looking at character class scores as output. We calculate the loss and perform backpropagation, as usual!\n",
        "\n",
        "A couple of details about training: \n",
        ">* Within the batch loop, we detach the hidden state from its history; this time setting it equal to a new *tuple* variable because an LSTM has a hidden state that is a tuple of the hidden and cell states.\n",
        "* We use [`clip_grad_norm_`](https://pytorch.org/docs/stable/_modules/torch/nn/utils/clip_grad.html) to help prevent exploding gradients."
      ]
    },
    {
      "cell_type": "code",
      "metadata": {
        "id": "8RkhRfukhGe3",
        "colab_type": "code",
        "colab": {}
      },
      "source": [
        "def train(net, data, epochs=10, batch_size=10, seq_length=50, lr=0.001, clip=5, val_frac=0.1, print_every=10):\n",
        "    ''' Training a network \n",
        "    \n",
        "        Arguments\n",
        "        ---------\n",
        "        \n",
        "        net: CharRNN network\n",
        "        data: text data to train the network\n",
        "        epochs: Number of epochs to train\n",
        "        batch_size: Number of mini-sequences per mini-batch, aka batch size\n",
        "        seq_length: Number of character steps per mini-batch\n",
        "        lr: learning rate\n",
        "        clip: gradient clipping\n",
        "        val_frac: Fraction of data to hold out for validation\n",
        "        print_every: Number of steps for printing training and validation loss\n",
        "    \n",
        "    '''\n",
        "    net.train()\n",
        "    \n",
        "    opt = torch.optim.Adam(net.parameters(), lr=lr)\n",
        "    criterion = nn.CrossEntropyLoss()\n",
        "    \n",
        "    # create training and validation data\n",
        "    val_idx = int(len(data)*(1-val_frac))\n",
        "    data, val_data = data[:val_idx], data[val_idx:]\n",
        "    \n",
        "    if(train_on_gpu):\n",
        "        net.cuda()\n",
        "    \n",
        "    counter = 0\n",
        "    n_chars = len(net.chars)\n",
        "    for e in range(epochs):\n",
        "        # initialize hidden state\n",
        "        h = net.init_hidden(batch_size)\n",
        "        \n",
        "        for x, y in get_batches(data, batch_size, seq_length):\n",
        "            counter += 1\n",
        "            \n",
        "            # One-hot encode our data and make them Torch tensors\n",
        "            x = one_hot_encode(x, n_chars)\n",
        "            inputs, targets = torch.from_numpy(x), torch.from_numpy(y)\n",
        "            \n",
        "            if(train_on_gpu):\n",
        "                inputs, targets = inputs.cuda(), targets.cuda()\n",
        "\n",
        "            # Creating new variables for the hidden state, otherwise\n",
        "            # we'd backprop through the entire training history\n",
        "            h = tuple([each.data for each in h])\n",
        "\n",
        "            # zero accumulated gradients\n",
        "            net.zero_grad()\n",
        "            \n",
        "            # get the output from the model\n",
        "            output, h = net(inputs, h)\n",
        "            \n",
        "            # calculate the loss and perform backprop\n",
        "            loss = criterion(output, targets.view(batch_size*seq_length).long())\n",
        "            loss.backward()\n",
        "            # `clip_grad_norm` helps prevent the exploding gradient problem in RNNs / LSTMs.\n",
        "            nn.utils.clip_grad_norm_(net.parameters(), clip)\n",
        "            opt.step()\n",
        "            \n",
        "            # loss stats\n",
        "            if counter % print_every == 0:\n",
        "                # Get validation loss\n",
        "                val_h = net.init_hidden(batch_size)\n",
        "                val_losses = []\n",
        "                net.eval()\n",
        "                for x, y in get_batches(val_data, batch_size, seq_length):\n",
        "                    # One-hot encode our data and make them Torch tensors\n",
        "                    x = one_hot_encode(x, n_chars)\n",
        "                    x, y = torch.from_numpy(x), torch.from_numpy(y)\n",
        "                    \n",
        "                    # Creating new variables for the hidden state, otherwise\n",
        "                    # we'd backprop through the entire training history\n",
        "                    val_h = tuple([each.data for each in val_h])\n",
        "                    \n",
        "                    inputs, targets = x, y\n",
        "                    if(train_on_gpu):\n",
        "                        inputs, targets = inputs.cuda(), targets.cuda()\n",
        "\n",
        "                    output, val_h = net(inputs, val_h)\n",
        "                    val_loss = criterion(output, targets.view(batch_size*seq_length).long())\n",
        "                \n",
        "                    val_losses.append(val_loss.item())\n",
        "                \n",
        "                net.train() # reset to train mode after iterationg through validation data\n",
        "                \n",
        "                print(\"Epoch: {}/{}...\".format(e+1, epochs),\n",
        "                      \"Step: {}...\".format(counter),\n",
        "                      \"Loss: {:.4f}...\".format(loss.item()),\n",
        "                      \"Val Loss: {:.4f}\".format(np.mean(val_losses)))"
      ],
      "execution_count": 0,
      "outputs": []
    },
    {
      "cell_type": "markdown",
      "metadata": {
        "id": "KN_Wm7bBhGe8",
        "colab_type": "text"
      },
      "source": [
        "## Instantiating the model\n",
        "\n",
        "Now we can actually train the network. First we'll create the network itself, with some given hyperparameters. Then, define the mini-batches sizes, and start training!"
      ]
    },
    {
      "cell_type": "code",
      "metadata": {
        "id": "FKO5mgkihGe9",
        "colab_type": "code",
        "colab": {
          "base_uri": "https://localhost:8080/",
          "height": 102
        },
        "outputId": "03853b86-8881-4cc7-9aca-444b0039bbaa"
      },
      "source": [
        "## TODO: set your model hyperparameters\n",
        "# define and print the net\n",
        "n_hidden=512\n",
        "n_layers=2\n",
        "\n",
        "net = CharRNN(chars, n_hidden, n_layers)\n",
        "print(net)"
      ],
      "execution_count": 16,
      "outputs": [
        {
          "output_type": "stream",
          "text": [
            "CharRNN(\n",
            "  (lstm): LSTM(83, 512, num_layers=2, batch_first=True, dropout=0.5)\n",
            "  (dropout): Dropout(p=0.5, inplace=False)\n",
            "  (fc): Linear(in_features=512, out_features=83, bias=True)\n",
            ")\n"
          ],
          "name": "stdout"
        }
      ]
    },
    {
      "cell_type": "markdown",
      "metadata": {
        "id": "gw-UP3eHhGfF",
        "colab_type": "text"
      },
      "source": [
        "### Set your training hyperparameters!"
      ]
    },
    {
      "cell_type": "code",
      "metadata": {
        "id": "RGE8c6WnhGfH",
        "colab_type": "code",
        "colab": {
          "base_uri": "https://localhost:8080/",
          "height": 34
        },
        "outputId": "b8944438-5871-467a-cf7e-8670dfa44ce4"
      },
      "source": [
        "# check if GPU is available\n",
        "train_on_gpu = torch.cuda.is_available()\n",
        "if(train_on_gpu):\n",
        "    print('Training on GPU!')\n",
        "else: \n",
        "    print('No GPU available, training on CPU; consider making n_epochs very small.')"
      ],
      "execution_count": 17,
      "outputs": [
        {
          "output_type": "stream",
          "text": [
            "Training on GPU!\n"
          ],
          "name": "stdout"
        }
      ]
    },
    {
      "cell_type": "code",
      "metadata": {
        "id": "p9UpJ4cThGfO",
        "colab_type": "code",
        "colab": {
          "base_uri": "https://localhost:8080/",
          "height": 1000
        },
        "outputId": "6220fd28-02a1-4c36-8a0b-85781305d80a"
      },
      "source": [
        "batch_size = 80 # given 2M chars aprox\n",
        "seq_length = 100\n",
        "n_epochs =  10 # start small if you are just testing initial behavior\n",
        "\n",
        "# train the model\n",
        "train(net, encoded, epochs=n_epochs, batch_size=batch_size, seq_length=seq_length, lr=0.001, print_every=10)"
      ],
      "execution_count": 19,
      "outputs": [
        {
          "output_type": "stream",
          "text": [
            "Epoch: 1/10... Step: 10... Loss: 2.4230... Val Loss: 2.3844\n",
            "Epoch: 1/10... Step: 20... Loss: 2.3677... Val Loss: 2.3378\n",
            "Epoch: 1/10... Step: 30... Loss: 2.3456... Val Loss: 2.3091\n",
            "Epoch: 1/10... Step: 40... Loss: 2.3285... Val Loss: 2.2862\n",
            "Epoch: 1/10... Step: 50... Loss: 2.2672... Val Loss: 2.2677\n",
            "Epoch: 1/10... Step: 60... Loss: 2.2533... Val Loss: 2.2460\n",
            "Epoch: 1/10... Step: 70... Loss: 2.2172... Val Loss: 2.2239\n",
            "Epoch: 1/10... Step: 80... Loss: 2.2313... Val Loss: 2.2045\n",
            "Epoch: 1/10... Step: 90... Loss: 2.2147... Val Loss: 2.1859\n",
            "Epoch: 1/10... Step: 100... Loss: 2.2178... Val Loss: 2.1667\n",
            "Epoch: 1/10... Step: 110... Loss: 2.1665... Val Loss: 2.1436\n",
            "Epoch: 1/10... Step: 120... Loss: 2.1746... Val Loss: 2.1184\n",
            "Epoch: 1/10... Step: 130... Loss: 2.1121... Val Loss: 2.0975\n",
            "Epoch: 1/10... Step: 140... Loss: 2.1349... Val Loss: 2.0857\n",
            "Epoch: 1/10... Step: 150... Loss: 2.0702... Val Loss: 2.0633\n",
            "Epoch: 1/10... Step: 160... Loss: 2.0852... Val Loss: 2.0559\n",
            "Epoch: 1/10... Step: 170... Loss: 2.0451... Val Loss: 2.0293\n",
            "Epoch: 1/10... Step: 180... Loss: 2.0460... Val Loss: 2.0102\n",
            "Epoch: 1/10... Step: 190... Loss: 1.9667... Val Loss: 1.9973\n",
            "Epoch: 1/10... Step: 200... Loss: 2.0077... Val Loss: 1.9833\n",
            "Epoch: 1/10... Step: 210... Loss: 1.9948... Val Loss: 1.9622\n",
            "Epoch: 1/10... Step: 220... Loss: 1.9287... Val Loss: 1.9463\n",
            "Epoch: 2/10... Step: 230... Loss: 1.8831... Val Loss: 1.9332\n",
            "Epoch: 2/10... Step: 240... Loss: 1.9510... Val Loss: 1.9153\n",
            "Epoch: 2/10... Step: 250... Loss: 1.9265... Val Loss: 1.8997\n",
            "Epoch: 2/10... Step: 260... Loss: 1.8785... Val Loss: 1.8833\n",
            "Epoch: 2/10... Step: 270... Loss: 1.9123... Val Loss: 1.8654\n",
            "Epoch: 2/10... Step: 280... Loss: 1.8846... Val Loss: 1.8547\n",
            "Epoch: 2/10... Step: 290... Loss: 1.8666... Val Loss: 1.8436\n",
            "Epoch: 2/10... Step: 300... Loss: 1.8681... Val Loss: 1.8286\n",
            "Epoch: 2/10... Step: 310... Loss: 1.8098... Val Loss: 1.8176\n",
            "Epoch: 2/10... Step: 320... Loss: 1.8132... Val Loss: 1.8113\n",
            "Epoch: 2/10... Step: 330... Loss: 1.8567... Val Loss: 1.8007\n",
            "Epoch: 2/10... Step: 340... Loss: 1.8156... Val Loss: 1.7860\n",
            "Epoch: 2/10... Step: 350... Loss: 1.7577... Val Loss: 1.7762\n",
            "Epoch: 2/10... Step: 360... Loss: 1.7978... Val Loss: 1.7659\n",
            "Epoch: 2/10... Step: 370... Loss: 1.7878... Val Loss: 1.7564\n",
            "Epoch: 2/10... Step: 380... Loss: 1.7352... Val Loss: 1.7460\n",
            "Epoch: 2/10... Step: 390... Loss: 1.7682... Val Loss: 1.7352\n",
            "Epoch: 2/10... Step: 400... Loss: 1.7277... Val Loss: 1.7237\n",
            "Epoch: 2/10... Step: 410... Loss: 1.7263... Val Loss: 1.7199\n",
            "Epoch: 2/10... Step: 420... Loss: 1.6940... Val Loss: 1.7149\n",
            "Epoch: 2/10... Step: 430... Loss: 1.6960... Val Loss: 1.7033\n",
            "Epoch: 2/10... Step: 440... Loss: 1.6868... Val Loss: 1.6951\n",
            "Epoch: 3/10... Step: 450... Loss: 1.6887... Val Loss: 1.6925\n",
            "Epoch: 3/10... Step: 460... Loss: 1.6866... Val Loss: 1.6845\n",
            "Epoch: 3/10... Step: 470... Loss: 1.6920... Val Loss: 1.6731\n",
            "Epoch: 3/10... Step: 480... Loss: 1.6953... Val Loss: 1.6625\n",
            "Epoch: 3/10... Step: 490... Loss: 1.6462... Val Loss: 1.6540\n",
            "Epoch: 3/10... Step: 500... Loss: 1.6256... Val Loss: 1.6472\n",
            "Epoch: 3/10... Step: 510... Loss: 1.6450... Val Loss: 1.6452\n",
            "Epoch: 3/10... Step: 520... Loss: 1.6742... Val Loss: 1.6383\n",
            "Epoch: 3/10... Step: 530... Loss: 1.6513... Val Loss: 1.6306\n",
            "Epoch: 3/10... Step: 540... Loss: 1.6592... Val Loss: 1.6236\n",
            "Epoch: 3/10... Step: 550... Loss: 1.6417... Val Loss: 1.6196\n",
            "Epoch: 3/10... Step: 560... Loss: 1.6130... Val Loss: 1.6120\n",
            "Epoch: 3/10... Step: 570... Loss: 1.6094... Val Loss: 1.6110\n",
            "Epoch: 3/10... Step: 580... Loss: 1.6319... Val Loss: 1.6090\n",
            "Epoch: 3/10... Step: 590... Loss: 1.6304... Val Loss: 1.5999\n",
            "Epoch: 3/10... Step: 600... Loss: 1.6276... Val Loss: 1.5948\n",
            "Epoch: 3/10... Step: 610... Loss: 1.5890... Val Loss: 1.5888\n",
            "Epoch: 3/10... Step: 620... Loss: 1.5756... Val Loss: 1.5809\n",
            "Epoch: 3/10... Step: 630... Loss: 1.5651... Val Loss: 1.5788\n",
            "Epoch: 3/10... Step: 640... Loss: 1.5863... Val Loss: 1.5768\n",
            "Epoch: 3/10... Step: 650... Loss: 1.5749... Val Loss: 1.5713\n",
            "Epoch: 3/10... Step: 660... Loss: 1.5431... Val Loss: 1.5668\n",
            "Epoch: 4/10... Step: 670... Loss: 1.6237... Val Loss: 1.5626\n",
            "Epoch: 4/10... Step: 680... Loss: 1.5092... Val Loss: 1.5623\n",
            "Epoch: 4/10... Step: 690... Loss: 1.5831... Val Loss: 1.5572\n",
            "Epoch: 4/10... Step: 700... Loss: 1.5633... Val Loss: 1.5461\n",
            "Epoch: 4/10... Step: 710... Loss: 1.5008... Val Loss: 1.5442\n",
            "Epoch: 4/10... Step: 720... Loss: 1.5447... Val Loss: 1.5392\n",
            "Epoch: 4/10... Step: 730... Loss: 1.5679... Val Loss: 1.5398\n",
            "Epoch: 4/10... Step: 740... Loss: 1.5140... Val Loss: 1.5325\n",
            "Epoch: 4/10... Step: 750... Loss: 1.5308... Val Loss: 1.5293\n",
            "Epoch: 4/10... Step: 760... Loss: 1.5219... Val Loss: 1.5255\n",
            "Epoch: 4/10... Step: 770... Loss: 1.5537... Val Loss: 1.5235\n",
            "Epoch: 4/10... Step: 780... Loss: 1.5085... Val Loss: 1.5202\n",
            "Epoch: 4/10... Step: 790... Loss: 1.5502... Val Loss: 1.5160\n",
            "Epoch: 4/10... Step: 800... Loss: 1.5362... Val Loss: 1.5131\n",
            "Epoch: 4/10... Step: 810... Loss: 1.5002... Val Loss: 1.5113\n",
            "Epoch: 4/10... Step: 820... Loss: 1.5028... Val Loss: 1.5112\n",
            "Epoch: 4/10... Step: 830... Loss: 1.5013... Val Loss: 1.5052\n",
            "Epoch: 4/10... Step: 840... Loss: 1.5272... Val Loss: 1.5001\n",
            "Epoch: 4/10... Step: 850... Loss: 1.4501... Val Loss: 1.4990\n",
            "Epoch: 4/10... Step: 860... Loss: 1.4677... Val Loss: 1.4938\n",
            "Epoch: 4/10... Step: 870... Loss: 1.4640... Val Loss: 1.4907\n",
            "Epoch: 4/10... Step: 880... Loss: 1.4995... Val Loss: 1.4873\n",
            "Epoch: 4/10... Step: 890... Loss: 1.4656... Val Loss: 1.4870\n",
            "Epoch: 5/10... Step: 900... Loss: 1.4371... Val Loss: 1.4857\n",
            "Epoch: 5/10... Step: 910... Loss: 1.4769... Val Loss: 1.4812\n",
            "Epoch: 5/10... Step: 920... Loss: 1.4669... Val Loss: 1.4790\n",
            "Epoch: 5/10... Step: 930... Loss: 1.4389... Val Loss: 1.4740\n",
            "Epoch: 5/10... Step: 940... Loss: 1.4930... Val Loss: 1.4702\n",
            "Epoch: 5/10... Step: 950... Loss: 1.5075... Val Loss: 1.4657\n",
            "Epoch: 5/10... Step: 960... Loss: 1.4532... Val Loss: 1.4666\n",
            "Epoch: 5/10... Step: 970... Loss: 1.5098... Val Loss: 1.4634\n",
            "Epoch: 5/10... Step: 980... Loss: 1.4042... Val Loss: 1.4625\n",
            "Epoch: 5/10... Step: 990... Loss: 1.4688... Val Loss: 1.4607\n",
            "Epoch: 5/10... Step: 1000... Loss: 1.4420... Val Loss: 1.4551\n",
            "Epoch: 5/10... Step: 1010... Loss: 1.4262... Val Loss: 1.4573\n",
            "Epoch: 5/10... Step: 1020... Loss: 1.4496... Val Loss: 1.4549\n",
            "Epoch: 5/10... Step: 1030... Loss: 1.4450... Val Loss: 1.4519\n",
            "Epoch: 5/10... Step: 1040... Loss: 1.4371... Val Loss: 1.4486\n",
            "Epoch: 5/10... Step: 1050... Loss: 1.4639... Val Loss: 1.4457\n",
            "Epoch: 5/10... Step: 1060... Loss: 1.4483... Val Loss: 1.4439\n",
            "Epoch: 5/10... Step: 1070... Loss: 1.4159... Val Loss: 1.4422\n",
            "Epoch: 5/10... Step: 1080... Loss: 1.4351... Val Loss: 1.4400\n",
            "Epoch: 5/10... Step: 1090... Loss: 1.4297... Val Loss: 1.4384\n",
            "Epoch: 5/10... Step: 1100... Loss: 1.4076... Val Loss: 1.4383\n",
            "Epoch: 5/10... Step: 1110... Loss: 1.4261... Val Loss: 1.4359\n",
            "Epoch: 6/10... Step: 1120... Loss: 1.4305... Val Loss: 1.4313\n",
            "Epoch: 6/10... Step: 1130... Loss: 1.4181... Val Loss: 1.4328\n",
            "Epoch: 6/10... Step: 1140... Loss: 1.4234... Val Loss: 1.4273\n",
            "Epoch: 6/10... Step: 1150... Loss: 1.4136... Val Loss: 1.4252\n",
            "Epoch: 6/10... Step: 1160... Loss: 1.4031... Val Loss: 1.4248\n",
            "Epoch: 6/10... Step: 1170... Loss: 1.4035... Val Loss: 1.4195\n",
            "Epoch: 6/10... Step: 1180... Loss: 1.3736... Val Loss: 1.4195\n",
            "Epoch: 6/10... Step: 1190... Loss: 1.4617... Val Loss: 1.4159\n",
            "Epoch: 6/10... Step: 1200... Loss: 1.4090... Val Loss: 1.4191\n",
            "Epoch: 6/10... Step: 1210... Loss: 1.3950... Val Loss: 1.4151\n",
            "Epoch: 6/10... Step: 1220... Loss: 1.3885... Val Loss: 1.4128\n",
            "Epoch: 6/10... Step: 1230... Loss: 1.3945... Val Loss: 1.4141\n",
            "Epoch: 6/10... Step: 1240... Loss: 1.4027... Val Loss: 1.4141\n",
            "Epoch: 6/10... Step: 1250... Loss: 1.4217... Val Loss: 1.4136\n",
            "Epoch: 6/10... Step: 1260... Loss: 1.4384... Val Loss: 1.4056\n",
            "Epoch: 6/10... Step: 1270... Loss: 1.3934... Val Loss: 1.4057\n",
            "Epoch: 6/10... Step: 1280... Loss: 1.4070... Val Loss: 1.4025\n",
            "Epoch: 6/10... Step: 1290... Loss: 1.3702... Val Loss: 1.4035\n",
            "Epoch: 6/10... Step: 1300... Loss: 1.3896... Val Loss: 1.4042\n",
            "Epoch: 6/10... Step: 1310... Loss: 1.3913... Val Loss: 1.4006\n",
            "Epoch: 6/10... Step: 1320... Loss: 1.3212... Val Loss: 1.4004\n",
            "Epoch: 6/10... Step: 1330... Loss: 1.3776... Val Loss: 1.3974\n",
            "Epoch: 7/10... Step: 1340... Loss: 1.3763... Val Loss: 1.3942\n",
            "Epoch: 7/10... Step: 1350... Loss: 1.3763... Val Loss: 1.4011\n",
            "Epoch: 7/10... Step: 1360... Loss: 1.3938... Val Loss: 1.3966\n",
            "Epoch: 7/10... Step: 1370... Loss: 1.3405... Val Loss: 1.3913\n",
            "Epoch: 7/10... Step: 1380... Loss: 1.3915... Val Loss: 1.3861\n",
            "Epoch: 7/10... Step: 1390... Loss: 1.3395... Val Loss: 1.3891\n",
            "Epoch: 7/10... Step: 1400... Loss: 1.3365... Val Loss: 1.3923\n",
            "Epoch: 7/10... Step: 1410... Loss: 1.3624... Val Loss: 1.3899\n",
            "Epoch: 7/10... Step: 1420... Loss: 1.3790... Val Loss: 1.3882\n",
            "Epoch: 7/10... Step: 1430... Loss: 1.2950... Val Loss: 1.3900\n",
            "Epoch: 7/10... Step: 1440... Loss: 1.3491... Val Loss: 1.3816\n",
            "Epoch: 7/10... Step: 1450... Loss: 1.3314... Val Loss: 1.3825\n",
            "Epoch: 7/10... Step: 1460... Loss: 1.3383... Val Loss: 1.3823\n",
            "Epoch: 7/10... Step: 1470... Loss: 1.3810... Val Loss: 1.3810\n",
            "Epoch: 7/10... Step: 1480... Loss: 1.4078... Val Loss: 1.3798\n",
            "Epoch: 7/10... Step: 1490... Loss: 1.3623... Val Loss: 1.3805\n",
            "Epoch: 7/10... Step: 1500... Loss: 1.4029... Val Loss: 1.3763\n",
            "Epoch: 7/10... Step: 1510... Loss: 1.3364... Val Loss: 1.3809\n",
            "Epoch: 7/10... Step: 1520... Loss: 1.3503... Val Loss: 1.3811\n",
            "Epoch: 7/10... Step: 1530... Loss: 1.3280... Val Loss: 1.3766\n",
            "Epoch: 7/10... Step: 1540... Loss: 1.3313... Val Loss: 1.3764\n",
            "Epoch: 7/10... Step: 1550... Loss: 1.3539... Val Loss: 1.3747\n",
            "Epoch: 7/10... Step: 1560... Loss: 1.3767... Val Loss: 1.3753\n",
            "Epoch: 8/10... Step: 1570... Loss: 1.3230... Val Loss: 1.3738\n",
            "Epoch: 8/10... Step: 1580... Loss: 1.3647... Val Loss: 1.3648\n",
            "Epoch: 8/10... Step: 1590... Loss: 1.3396... Val Loss: 1.3688\n",
            "Epoch: 8/10... Step: 1600... Loss: 1.3223... Val Loss: 1.3652\n",
            "Epoch: 8/10... Step: 1610... Loss: 1.3405... Val Loss: 1.3619\n",
            "Epoch: 8/10... Step: 1620... Loss: 1.3429... Val Loss: 1.3658\n",
            "Epoch: 8/10... Step: 1630... Loss: 1.3419... Val Loss: 1.3624\n",
            "Epoch: 8/10... Step: 1640... Loss: 1.3535... Val Loss: 1.3622\n",
            "Epoch: 8/10... Step: 1650... Loss: 1.3260... Val Loss: 1.3671\n",
            "Epoch: 8/10... Step: 1660... Loss: 1.3311... Val Loss: 1.3627\n",
            "Epoch: 8/10... Step: 1670... Loss: 1.2946... Val Loss: 1.3613\n",
            "Epoch: 8/10... Step: 1680... Loss: 1.2682... Val Loss: 1.3636\n",
            "Epoch: 8/10... Step: 1690... Loss: 1.2728... Val Loss: 1.3646\n",
            "Epoch: 8/10... Step: 1700... Loss: 1.3465... Val Loss: 1.3601\n",
            "Epoch: 8/10... Step: 1710... Loss: 1.3167... Val Loss: 1.3590\n",
            "Epoch: 8/10... Step: 1720... Loss: 1.2936... Val Loss: 1.3580\n",
            "Epoch: 8/10... Step: 1730... Loss: 1.2821... Val Loss: 1.3556\n",
            "Epoch: 8/10... Step: 1740... Loss: 1.3231... Val Loss: 1.3540\n",
            "Epoch: 8/10... Step: 1750... Loss: 1.3061... Val Loss: 1.3553\n",
            "Epoch: 8/10... Step: 1760... Loss: 1.3143... Val Loss: 1.3559\n",
            "Epoch: 8/10... Step: 1770... Loss: 1.2632... Val Loss: 1.3582\n",
            "Epoch: 8/10... Step: 1780... Loss: 1.3245... Val Loss: 1.3507\n",
            "Epoch: 9/10... Step: 1790... Loss: 1.3142... Val Loss: 1.3484\n",
            "Epoch: 9/10... Step: 1800... Loss: 1.3241... Val Loss: 1.3505\n",
            "Epoch: 9/10... Step: 1810... Loss: 1.3288... Val Loss: 1.3536\n",
            "Epoch: 9/10... Step: 1820... Loss: 1.2860... Val Loss: 1.3508\n",
            "Epoch: 9/10... Step: 1830... Loss: 1.3388... Val Loss: 1.3455\n",
            "Epoch: 9/10... Step: 1840... Loss: 1.3194... Val Loss: 1.3432\n",
            "Epoch: 9/10... Step: 1850... Loss: 1.3202... Val Loss: 1.3464\n",
            "Epoch: 9/10... Step: 1860... Loss: 1.3451... Val Loss: 1.3474\n",
            "Epoch: 9/10... Step: 1870... Loss: 1.2926... Val Loss: 1.3420\n",
            "Epoch: 9/10... Step: 1880... Loss: 1.2805... Val Loss: 1.3438\n",
            "Epoch: 9/10... Step: 1890... Loss: 1.3481... Val Loss: 1.3433\n",
            "Epoch: 9/10... Step: 1900... Loss: 1.2993... Val Loss: 1.3407\n",
            "Epoch: 9/10... Step: 1910... Loss: 1.3374... Val Loss: 1.3414\n",
            "Epoch: 9/10... Step: 1920... Loss: 1.3191... Val Loss: 1.3429\n",
            "Epoch: 9/10... Step: 1930... Loss: 1.3276... Val Loss: 1.3418\n",
            "Epoch: 9/10... Step: 1940... Loss: 1.2563... Val Loss: 1.3400\n",
            "Epoch: 9/10... Step: 1950... Loss: 1.3237... Val Loss: 1.3355\n",
            "Epoch: 9/10... Step: 1960... Loss: 1.2759... Val Loss: 1.3383\n",
            "Epoch: 9/10... Step: 1970... Loss: 1.2881... Val Loss: 1.3387\n",
            "Epoch: 9/10... Step: 1980... Loss: 1.3003... Val Loss: 1.3398\n",
            "Epoch: 9/10... Step: 1990... Loss: 1.2425... Val Loss: 1.3427\n",
            "Epoch: 9/10... Step: 2000... Loss: 1.2968... Val Loss: 1.3392\n",
            "Epoch: 10/10... Step: 2010... Loss: 1.2861... Val Loss: 1.3339\n",
            "Epoch: 10/10... Step: 2020... Loss: 1.3031... Val Loss: 1.3374\n",
            "Epoch: 10/10... Step: 2030... Loss: 1.2986... Val Loss: 1.3351\n",
            "Epoch: 10/10... Step: 2040... Loss: 1.2957... Val Loss: 1.3329\n",
            "Epoch: 10/10... Step: 2050... Loss: 1.2673... Val Loss: 1.3296\n",
            "Epoch: 10/10... Step: 2060... Loss: 1.3002... Val Loss: 1.3321\n",
            "Epoch: 10/10... Step: 2070... Loss: 1.2668... Val Loss: 1.3330\n",
            "Epoch: 10/10... Step: 2080... Loss: 1.3015... Val Loss: 1.3407\n",
            "Epoch: 10/10... Step: 2090... Loss: 1.3427... Val Loss: 1.3326\n",
            "Epoch: 10/10... Step: 2100... Loss: 1.2822... Val Loss: 1.3323\n",
            "Epoch: 10/10... Step: 2110... Loss: 1.3514... Val Loss: 1.3221\n",
            "Epoch: 10/10... Step: 2120... Loss: 1.2733... Val Loss: 1.3259\n",
            "Epoch: 10/10... Step: 2130... Loss: 1.3226... Val Loss: 1.3281\n",
            "Epoch: 10/10... Step: 2140... Loss: 1.3162... Val Loss: 1.3247\n",
            "Epoch: 10/10... Step: 2150... Loss: 1.3367... Val Loss: 1.3276\n",
            "Epoch: 10/10... Step: 2160... Loss: 1.2961... Val Loss: 1.3259\n",
            "Epoch: 10/10... Step: 2170... Loss: 1.3230... Val Loss: 1.3223\n",
            "Epoch: 10/10... Step: 2180... Loss: 1.2896... Val Loss: 1.3251\n",
            "Epoch: 10/10... Step: 2190... Loss: 1.2853... Val Loss: 1.3226\n",
            "Epoch: 10/10... Step: 2200... Loss: 1.2671... Val Loss: 1.3239\n",
            "Epoch: 10/10... Step: 2210... Loss: 1.2675... Val Loss: 1.3257\n",
            "Epoch: 10/10... Step: 2220... Loss: 1.2758... Val Loss: 1.3227\n",
            "Epoch: 10/10... Step: 2230... Loss: 1.3094... Val Loss: 1.3223\n"
          ],
          "name": "stdout"
        }
      ]
    },
    {
      "cell_type": "markdown",
      "metadata": {
        "id": "p3Z3kReUhGfY",
        "colab_type": "text"
      },
      "source": [
        "## Getting the best model\n",
        "\n",
        "To set your hyperparameters to get the best performance, you'll want to watch the training and validation losses. If your training loss is much lower than the validation loss, you're overfitting. Increase regularization (more dropout) or use a smaller network. If the training and validation losses are close, you're underfitting so you can increase the size of the network."
      ]
    },
    {
      "cell_type": "markdown",
      "metadata": {
        "id": "1z10Zf7WhGfZ",
        "colab_type": "text"
      },
      "source": [
        "## Hyperparameters\n",
        "\n",
        "Here are the hyperparameters for the network.\n",
        "\n",
        "In defining the model:\n",
        "* `n_hidden` - The number of units in the hidden layers.\n",
        "* `n_layers` - Number of hidden LSTM layers to use.\n",
        "\n",
        "We assume that dropout probability and learning rate will be kept at the default, in this example.\n",
        "\n",
        "And in training:\n",
        "* `batch_size` - Number of sequences running through the network in one pass.\n",
        "* `seq_length` - Number of characters in the sequence the network is trained on. Larger is better typically, the network will learn more long range dependencies. But it takes longer to train. 100 is typically a good number here.\n",
        "* `lr` - Learning rate for training\n",
        "\n",
        "Here's some good advice from Andrej Karpathy on training the network. I'm going to copy it in here for your benefit, but also link to [where it originally came from](https://github.com/karpathy/char-rnn#tips-and-tricks).\n",
        "\n",
        "> ## Tips and Tricks\n",
        "\n",
        ">### Monitoring Validation Loss vs. Training Loss\n",
        ">If you're somewhat new to Machine Learning or Neural Networks it can take a bit of expertise to get good models. The most important quantity to keep track of is the difference between your training loss (printed during training) and the validation loss (printed once in a while when the RNN is run on the validation data (by default every 1000 iterations)). In particular:\n",
        "\n",
        "> - If your training loss is much lower than validation loss then this means the network might be **overfitting**. Solutions to this are to decrease your network size, or to increase dropout. For example you could try dropout of 0.5 and so on.\n",
        "> - If your training/validation loss are about equal then your model is **underfitting**. Increase the size of your model (either number of layers or the raw number of neurons per layer)\n",
        "\n",
        "> ### Approximate number of parameters\n",
        "\n",
        "> The two most important parameters that control the model are `n_hidden` and `n_layers`. I would advise that you always use `n_layers` of either 2/3. The `n_hidden` can be adjusted based on how much data you have. The two important quantities to keep track of here are:\n",
        "\n",
        "> - The number of parameters in your model. This is printed when you start training.\n",
        "> - The size of your dataset. 1MB file is approximately 1 million characters.\n",
        "\n",
        ">These two should be about the same order of magnitude. It's a little tricky to tell. Here are some examples:\n",
        "\n",
        "> - I have a 100MB dataset and I'm using the default parameter settings (which currently print 150K parameters). My data size is significantly larger (100 mil >> 0.15 mil), so I expect to heavily underfit. I am thinking I can comfortably afford to make `n_hidden` larger.\n",
        "> - I have a 10MB dataset and running a 10 million parameter model. I'm slightly nervous and I'm carefully monitoring my validation loss. If it's larger than my training loss then I may want to try to increase dropout a bit and see if that helps the validation loss.\n",
        "\n",
        "> ### Best models strategy\n",
        "\n",
        ">The winning strategy to obtaining very good models (if you have the compute time) is to always err on making the network larger (as large as you're willing to wait for it to compute) and then try different dropout values (between 0,1). Whatever model has the best validation performance (the loss, written in the checkpoint filename, low is good) is the one you should use in the end.\n",
        "\n",
        ">It is very common in deep learning to run many different models with many different hyperparameter settings, and in the end take whatever checkpoint gave the best validation performance.\n",
        "\n",
        ">By the way, the size of your training and validation splits are also parameters. Make sure you have a decent amount of data in your validation set or otherwise the validation performance will be noisy and not very informative."
      ]
    },
    {
      "cell_type": "markdown",
      "metadata": {
        "id": "wMymKKDMhGfa",
        "colab_type": "text"
      },
      "source": [
        "## Checkpoint\n",
        "\n",
        "After training, we'll save the model so we can load it again later if we need too. Here I'm saving the parameters needed to create the same architecture, the hidden layer hyperparameters and the text characters."
      ]
    },
    {
      "cell_type": "code",
      "metadata": {
        "id": "Cyk9I9V3hGfc",
        "colab_type": "code",
        "colab": {}
      },
      "source": [
        "# change the name, for saving multiple files\n",
        "model_name = 'rnn_x_epoch.net'\n",
        "\n",
        "checkpoint = {'n_hidden': net.n_hidden,\n",
        "              'n_layers': net.n_layers,\n",
        "              'state_dict': net.state_dict(),\n",
        "              'tokens': net.chars}\n",
        "\n",
        "with open(model_name, 'wb') as f:\n",
        "    torch.save(checkpoint, f)"
      ],
      "execution_count": 0,
      "outputs": []
    },
    {
      "cell_type": "markdown",
      "metadata": {
        "id": "3oJ6GRq8hGfg",
        "colab_type": "text"
      },
      "source": [
        "---\n",
        "## Making Predictions\n",
        "\n",
        "Now that the model is trained, we'll want to sample from it and make predictions about next characters! To sample, we pass in a character and have the network predict the next character. Then we take that character, pass it back in, and get another predicted character. Just keep doing this and you'll generate a bunch of text!\n",
        "\n",
        "### A note on the `predict`  function\n",
        "\n",
        "The output of our RNN is from a fully-connected layer and it outputs a **distribution of next-character scores**.\n",
        "\n",
        "> To actually get the next character, we apply a softmax function, which gives us a *probability* distribution that we can then sample to predict the next character.\n",
        "\n",
        "### Top K sampling\n",
        "\n",
        "Our predictions come from a categorical probability distribution over all the possible characters. We can make the sample text and make it more reasonable to handle (with less variables) by only considering some $K$ most probable characters. This will prevent the network from giving us completely absurd characters while allowing it to introduce some noise and randomness into the sampled text. Read more about [topk, here](https://pytorch.org/docs/stable/torch.html#torch.topk).\n"
      ]
    },
    {
      "cell_type": "code",
      "metadata": {
        "id": "IR7DXNUVhGfh",
        "colab_type": "code",
        "colab": {}
      },
      "source": [
        "def predict(net, char, h=None, top_k=None):\n",
        "        ''' Given a character, predict the next character.\n",
        "            Returns the predicted character and the hidden state.\n",
        "        '''\n",
        "        \n",
        "        # tensor inputs\n",
        "        x = np.array([[net.char2int[char]]])\n",
        "        x = one_hot_encode(x, len(net.chars))\n",
        "        inputs = torch.from_numpy(x)\n",
        "        \n",
        "        if(train_on_gpu):\n",
        "            inputs = inputs.cuda()\n",
        "        \n",
        "        # detach hidden state from history\n",
        "        h = tuple([each.data for each in h])\n",
        "        # get the output of the model\n",
        "        out, h = net(inputs, h)\n",
        "\n",
        "        # get the character probabilities\n",
        "        p = F.softmax(out, dim=1).data\n",
        "        if(train_on_gpu):\n",
        "            p = p.cpu() # move to cpu\n",
        "        \n",
        "        # get top characters\n",
        "        if top_k is None:\n",
        "            top_ch = np.arange(len(net.chars))\n",
        "        else:\n",
        "            p, top_ch = p.topk(top_k)\n",
        "            top_ch = top_ch.numpy().squeeze()\n",
        "        \n",
        "        # select the likely next character with some element of randomness\n",
        "        p = p.numpy().squeeze()\n",
        "        char = np.random.choice(top_ch, p=p/p.sum())\n",
        "        \n",
        "        # return the encoded value of the predicted char and the hidden state\n",
        "        return net.int2char[char], h"
      ],
      "execution_count": 0,
      "outputs": []
    },
    {
      "cell_type": "markdown",
      "metadata": {
        "id": "ZK8VF2gBhGfp",
        "colab_type": "text"
      },
      "source": [
        "### Priming and generating text \n",
        "\n",
        "Typically you'll want to prime the network so you can build up a hidden state. Otherwise the network will start out generating characters at random. In general the first bunch of characters will be a little rough since it hasn't built up a long history of characters to predict from."
      ]
    },
    {
      "cell_type": "code",
      "metadata": {
        "id": "XW6nx5fzhGfq",
        "colab_type": "code",
        "colab": {}
      },
      "source": [
        "def sample(net, size, prime='The', top_k=None):\n",
        "        \n",
        "    if(train_on_gpu):\n",
        "        net.cuda()\n",
        "    else:\n",
        "        net.cpu()\n",
        "    \n",
        "    net.eval() # eval mode\n",
        "    \n",
        "    # First off, run through the prime characters\n",
        "    chars = [ch for ch in prime]\n",
        "    h = net.init_hidden(1)\n",
        "    for ch in prime:\n",
        "        char, h = predict(net, ch, h, top_k=top_k)\n",
        "\n",
        "    chars.append(char)\n",
        "    \n",
        "    # Now pass in the previous character and get a new one\n",
        "    for ii in range(size):\n",
        "        char, h = predict(net, chars[-1], h, top_k=top_k)\n",
        "        chars.append(char)\n",
        "\n",
        "    return ''.join(chars)"
      ],
      "execution_count": 0,
      "outputs": []
    },
    {
      "cell_type": "code",
      "metadata": {
        "id": "2tyxJOMEhGfu",
        "colab_type": "code",
        "colab": {
          "base_uri": "https://localhost:8080/",
          "height": 462
        },
        "outputId": "3a3d0999-56b8-4217-a119-f2008a1ab2b2"
      },
      "source": [
        "print(sample(net, 1000, prime='Anna', top_k=5))"
      ],
      "execution_count": 23,
      "outputs": [
        {
          "output_type": "stream",
          "text": [
            "Anna went on having\n",
            "stronger, and the\n",
            "clusir and\n",
            "truticelar still, as they could not go it on. And so though as it was at it and hust her and there\n",
            "was the sound of his beart for that matter. The day and\n",
            "a minute of the company, but which had buty to do when it were talding at herself and the conversation what had a man of his father, he could be not to think of his head.\" She shooted had been at any down. She had been\n",
            "the same.\n",
            "\n",
            "\"Work and he don't be to see.\"\n",
            "\n",
            "\"I have something, there's one most set of his own to me? I'll signing to the peason. Why are you drove up\n",
            "too that thit, I won't, she was at him in her to say.\"\n",
            "\n",
            "\"Oh, what is in his hair to too?\" said Stepan Arkadyevitch, latching out him. They should go out of a midute.\n",
            "\n",
            "\n",
            "\n",
            "Chapter 4\n",
            "\n",
            "\n",
            "\"What as you're to see him?\"\n",
            "\n",
            "\"Out of the doctor stood as you soon as I see\n",
            "it as so the court, and and there most father,\" which had not balked to be out\n",
            "of the country that the mother, she was trying to deceive an he clothed. \"The care to such more \n"
          ],
          "name": "stdout"
        }
      ]
    },
    {
      "cell_type": "markdown",
      "metadata": {
        "id": "XhnocWOahGf4",
        "colab_type": "text"
      },
      "source": [
        "## Loading a checkpoint"
      ]
    },
    {
      "cell_type": "code",
      "metadata": {
        "id": "L8JcFBSVhGf5",
        "colab_type": "code",
        "colab": {
          "base_uri": "https://localhost:8080/",
          "height": 34
        },
        "outputId": "042de73d-ea02-442b-9dc8-b330dfc8e41a"
      },
      "source": [
        "# Here we have loaded in a model that trained over 20 epochs `rnn_20_epoch.net`\n",
        "with open('rnn_x_epoch.net', 'rb') as f:\n",
        "    checkpoint = torch.load(f)\n",
        "    \n",
        "loaded = CharRNN(checkpoint['tokens'], n_hidden=checkpoint['n_hidden'], n_layers=checkpoint['n_layers'])\n",
        "loaded.load_state_dict(checkpoint['state_dict'])"
      ],
      "execution_count": 24,
      "outputs": [
        {
          "output_type": "execute_result",
          "data": {
            "text/plain": [
              "<All keys matched successfully>"
            ]
          },
          "metadata": {
            "tags": []
          },
          "execution_count": 24
        }
      ]
    },
    {
      "cell_type": "code",
      "metadata": {
        "id": "2MKKyFTLhGf_",
        "colab_type": "code",
        "colab": {
          "base_uri": "https://localhost:8080/",
          "height": 513
        },
        "outputId": "be3e3f86-bf7a-486f-fd2a-68d079de1367"
      },
      "source": [
        "# Sample using a loaded model\n",
        "print(sample(loaded, 2000, top_k=5, prime=\"And Levin said\"))"
      ],
      "execution_count": 25,
      "outputs": [
        {
          "output_type": "stream",
          "text": [
            "And Levin said a trouble to the soul and where when he had been been starding in the property, that she saw that his\n",
            "white listening, which she was angry on the doctor and and who was. He came. The minute\n",
            "was to be as to spoke about it to him. She had been the confession of his since he called and went up\n",
            "and went on with seemed, which had all\n",
            "as\n",
            "stalking thraigh he, but as she had\n",
            "been standing to an into the decerial son in\n",
            "ano hare of the position of his hand\n",
            "the priver of her hand. The countess without considering that she had all at the common of\n",
            "articuling soul, as a stand which this more was of time with\n",
            "the stipping of tines, which\n",
            "was a man't ask of hour of his sister. All that he had not steaning themen in their principle to her that he was not that they had been tried at the come the sort of the moment, as though they dared and were. All the sime in himself and an one of it, and that he would stond.\n",
            "She did not get into the dividions of\n",
            "his husband, but that he darkness with her husband was\n",
            "changed the chief that at\n",
            "the memory, and all he\n",
            "would have seen his wife, he would\n",
            "not\n",
            "be last the sort of seament, and straight at the day the same as to some significance. Stepan Arkadyevitch was in the distination of his house and the same, the crestion of all he had alone with the moment of\n",
            "her arried. The chief service, had still much one of the must be the sister alone\n",
            "that he were\n",
            "confimed to see him, he\n",
            "was disagreeable; to briet, but the sore which she was a sense in his wife that the drawing room to see the man and his face. He had seemed to brank out a\n",
            "letter and taken up on her horse. That it were to go with his book, with her hands on his house to be all had a comment of serious transfornence, and all with a bright signee who had been alring to be at that morning to answer is so as he came up, as, as it seemed in an instant, and-without a sense of the dressing of the desire and they\n",
            "would not be, and when his hige has been said,\n",
            "and was saying\n",
            "the\n",
            "mething when she told \n"
          ],
          "name": "stdout"
        }
      ]
    },
    {
      "cell_type": "code",
      "metadata": {
        "id": "VQvCNMUfhGgJ",
        "colab_type": "code",
        "colab": {}
      },
      "source": [
        ""
      ],
      "execution_count": 0,
      "outputs": []
    }
  ]
}
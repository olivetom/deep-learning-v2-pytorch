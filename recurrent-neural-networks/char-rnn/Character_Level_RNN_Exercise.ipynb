{
  "nbformat": 4,
  "nbformat_minor": 0,
  "metadata": {
    "kernelspec": {
      "display_name": "Python 3.7.5 64-bit ('deep-learning-v2-pytorch': pipenv)",
      "language": "python",
      "name": "python37564bitdeeplearningv2pytorchpipenv228bb8fd2b7044fc95b1a54da7d30e8a"
    },
    "language_info": {
      "codemirror_mode": {
        "name": "ipython",
        "version": 3
      },
      "file_extension": ".py",
      "mimetype": "text/x-python",
      "name": "python",
      "nbconvert_exporter": "python",
      "pygments_lexer": "ipython3",
      "version": "3.7.5-final"
    },
    "colab": {
      "name": "Character_Level_RNN_Exercise.ipynb",
      "provenance": []
    },
    "accelerator": "GPU"
  },
  "cells": [
    {
      "cell_type": "markdown",
      "metadata": {
        "id": "IAFrW7HohGbC",
        "colab_type": "text"
      },
      "source": [
        "# Character-Level LSTM in PyTorch\n",
        "\n",
        "In this notebook, I'll construct a character-level LSTM with PyTorch. The network will train character by character on some text, then generate new text character by character. As an example, I will train on Anna Karenina. **This model will be able to generate new text based on the text from the book!**\n",
        "\n",
        "This network is based off of Andrej Karpathy's [post on RNNs](http://karpathy.github.io/2015/05/21/rnn-effectiveness/) and [implementation in Torch](https://github.com/karpathy/char-rnn). Below is the general architecture of the character-wise RNN.\n",
        "<img src=\n",
        "./<img src=\"https://github.com/olivetom/deep-learning-v2-pytorch/blob/master/recurrent-neural-networks/char-rnn/assets/charseq.jpeg?raw=1\" width=\"500\">"
      ]
    },
    {
      "cell_type": "markdown",
      "metadata": {
        "id": "a4SQUWRGhGbF",
        "colab_type": "text"
      },
      "source": [
        "First let's load in our required resources for data loading and model creation."
      ]
    },
    {
      "cell_type": "code",
      "metadata": {
        "id": "_vnZZCsZhGbM",
        "colab_type": "code",
        "colab": {}
      },
      "source": [
        "import numpy as np\n",
        "import torch\n",
        "from torch import nn\n",
        "import torch.nn.functional as F"
      ],
      "execution_count": 0,
      "outputs": []
    },
    {
      "cell_type": "markdown",
      "metadata": {
        "id": "28bgtTj_hGbV",
        "colab_type": "text"
      },
      "source": [
        "## Load in Data\n",
        "\n",
        "Then, we'll load the Anna Karenina text file and convert it into integers for our network to use. "
      ]
    },
    {
      "cell_type": "code",
      "metadata": {
        "id": "uUQlTRHehGbc",
        "colab_type": "code",
        "colab": {}
      },
      "source": [
        "# open text file and read in data as `text`\n",
        "with open('data/anna.txt', 'r') as f:\n",
        "    text = f.read()"
      ],
      "execution_count": 0,
      "outputs": []
    },
    {
      "cell_type": "markdown",
      "metadata": {
        "id": "TmUd23fvhGbm",
        "colab_type": "text"
      },
      "source": [
        "Let's check out the first 100 characters, make sure everything is peachy. According to the [American Book Review](http://americanbookreview.org/100bestlines.asp), this is the 6th best first line of a book ever."
      ]
    },
    {
      "cell_type": "code",
      "metadata": {
        "id": "E4s3gZUShGbs",
        "colab_type": "code",
        "colab": {
          "base_uri": "https://localhost:8080/",
          "height": 51
        },
        "outputId": "190a3e1f-bcb6-4f77-b0bf-893ee70846c1"
      },
      "source": [
        "print(len(text))\n",
        "text[:100]"
      ],
      "execution_count": 5,
      "outputs": [
        {
          "output_type": "stream",
          "text": [
            "1985223\n"
          ],
          "name": "stdout"
        },
        {
          "output_type": "execute_result",
          "data": {
            "text/plain": [
              "'Chapter 1\\n\\n\\nHappy families are all alike; every unhappy family is unhappy in its own\\nway.\\n\\nEverythin'"
            ]
          },
          "metadata": {
            "tags": []
          },
          "execution_count": 5
        }
      ]
    },
    {
      "cell_type": "markdown",
      "metadata": {
        "id": "UfRLVYdLhGcL",
        "colab_type": "text"
      },
      "source": [
        "### Tokenization\n",
        "\n",
        "In the cells, below, I'm creating a couple **dictionaries** to convert the characters to and from integers. Encoding the characters as integers makes it easier to use as input in the network."
      ]
    },
    {
      "cell_type": "code",
      "metadata": {
        "id": "X6V_hHjqhGcR",
        "colab_type": "code",
        "colab": {}
      },
      "source": [
        "# encode the text and map each character to an integer and vice versa\n",
        "\n",
        "# we create two dictionaries:\n",
        "# 1. int2char, which maps integers to characters\n",
        "# 2. char2int, which maps characters to unique integers\n",
        "chars = tuple(set(text))\n",
        "int2char = dict(enumerate(chars))\n",
        "char2int = {ch: ii for ii, ch in int2char.items()}\n",
        "\n",
        "# encode the text\n",
        "encoded = np.array([char2int[ch] for ch in text])"
      ],
      "execution_count": 0,
      "outputs": []
    },
    {
      "cell_type": "markdown",
      "metadata": {
        "id": "gBQVVKRhhGcX",
        "colab_type": "text"
      },
      "source": [
        "And we can see those same characters from above, encoded as integers."
      ]
    },
    {
      "cell_type": "code",
      "metadata": {
        "id": "tz8KyAWChGce",
        "colab_type": "code",
        "colab": {
          "base_uri": "https://localhost:8080/",
          "height": 119
        },
        "outputId": "222895bc-150f-4f4e-e3db-1eb8ff58db1b"
      },
      "source": [
        "encoded[:100]"
      ],
      "execution_count": 7,
      "outputs": [
        {
          "output_type": "execute_result",
          "data": {
            "text/plain": [
              "array([29, 40,  9,  8, 52, 35, 72,  0,  5, 56, 56, 56, 57,  9,  8,  8, 43,\n",
              "        0, 44,  9, 73, 21, 74, 21, 35, 12,  0,  9, 72, 35,  0,  9, 74, 74,\n",
              "        0,  9, 74, 21,  1, 35, 64,  0, 35, 82, 35, 72, 43,  0, 22, 79, 40,\n",
              "        9,  8,  8, 43,  0, 44,  9, 73, 21, 74, 43,  0, 21, 12,  0, 22, 79,\n",
              "       40,  9,  8,  8, 43,  0, 21, 79,  0, 21, 52, 12,  0, 28, 75, 79, 56,\n",
              "       75,  9, 43, 37, 56, 56, 30, 82, 35, 72, 43, 52, 40, 21, 79])"
            ]
          },
          "metadata": {
            "tags": []
          },
          "execution_count": 7
        }
      ]
    },
    {
      "cell_type": "markdown",
      "metadata": {
        "id": "_mFz5-fWhGd0",
        "colab_type": "text"
      },
      "source": [
        "## Pre-processing the data\n",
        "\n",
        "As you can see in our char-RNN image above, our LSTM expects an input that is **one-hot encoded** meaning that each character is converted into an integer (via our created dictionary) and *then* converted into a column vector where only it's corresponding integer index will have the value of 1 and the rest of the vector will be filled with 0's. Since we're one-hot encoding the data, let's make a function to do that!\n"
      ]
    },
    {
      "cell_type": "code",
      "metadata": {
        "id": "Yewwmtg2hGd8",
        "colab_type": "code",
        "colab": {}
      },
      "source": [
        "def one_hot_encode(arr, n_labels):\n",
        "    \n",
        "    # Initialize the the encoded array\n",
        "    one_hot = np.zeros((arr.size, n_labels), dtype=np.float32)\n",
        "    \n",
        "    # Fill the appropriate elements with ones\n",
        "    one_hot[np.arange(one_hot.shape[0]), arr.flatten()] = 1.\n",
        "    \n",
        "    # Finally reshape it to get back to the original array\n",
        "    one_hot = one_hot.reshape((*arr.shape, n_labels))\n",
        "    \n",
        "    return one_hot"
      ],
      "execution_count": 0,
      "outputs": []
    },
    {
      "cell_type": "code",
      "metadata": {
        "id": "lNBXdHGEhGeE",
        "colab_type": "code",
        "colab": {
          "base_uri": "https://localhost:8080/",
          "height": 68
        },
        "outputId": "1118e4d2-64d0-4762-c621-9108f846b43d"
      },
      "source": [
        "# check that the function works as expected\n",
        "test_seq = np.array([[3, 5, 1]])\n",
        "one_hot = one_hot_encode(test_seq, 8)\n",
        "print(one_hot)"
      ],
      "execution_count": 9,
      "outputs": [
        {
          "output_type": "stream",
          "text": [
            "[[[0. 0. 0. 1. 0. 0. 0. 0.]\n",
            "  [0. 0. 0. 0. 0. 1. 0. 0.]\n",
            "  [0. 1. 0. 0. 0. 0. 0. 0.]]]\n"
          ],
          "name": "stdout"
        }
      ]
    },
    {
      "cell_type": "markdown",
      "metadata": {
        "id": "H4wU8-NThGeJ",
        "colab_type": "text"
      },
      "source": [
        "## Making training mini-batches\n",
        "\n",
        "\n",
        "To train on this data, we also want to create mini-batches for training. Remember that we want our batches to be multiple sequences of some desired number of sequence steps. Considering a simple example, our batches would look like this:\n",
        "\n",
        "<img src=\"https://github.com/olivetom/deep-learning-v2-pytorch/blob/master/recurrent-neural-networks/char-rnn/assets/sequence_batching@1x.png?raw=1\" width=500px>\n",
        "\n",
        "\n",
        "<br>\n",
        "\n",
        "In this example, we'll take the encoded characters (passed in as the `arr` parameter) and split them into multiple sequences, given by `batch_size`. Each of our sequences will be `seq_length` long.\n",
        "\n",
        "### Creating Batches\n",
        "\n",
        "**1. The first thing we need to do is discard some of the text so we only have completely full mini-batches. **\n",
        "\n",
        "Each batch contains $N \\times M$ characters, where $N$ is the batch size (the number of sequences in a batch) and $M$ is the seq_length or number of time steps in a sequence. Then, to get the total number of batches, $K$, that we can make from the array `arr`, you divide the length of `arr` by the number of characters per batch. Once you know the number of batches, you can get the total number of characters to keep from `arr`, $N * M * K$.\n",
        "\n",
        "**2. After that, we need to split `arr` into $N$ batches. ** \n",
        "\n",
        "You can do this using `arr.reshape(size)` where `size` is a tuple containing the dimensions sizes of the reshaped array. We know we want $N$ sequences in a batch, so let's make that the size of the first dimension. For the second dimension, you can use `-1` as a placeholder in the size, it'll fill up the array with the appropriate data for you. After this, you should have an array that is $N \\times (M * K)$.\n",
        "\n",
        "**3. Now that we have this array, we can iterate through it to get our mini-batches. **\n",
        "\n",
        "The idea is each batch is a $N \\times M$ window on the $N \\times (M * K)$ array. For each subsequent batch, the window moves over by `seq_length`. We also want to create both the input and target arrays. Remember that the targets are just the inputs shifted over by one character. The way I like to do this window is use `range` to take steps of size `n_steps` from $0$ to `arr.shape[1]`, the total number of tokens in each sequence. That way, the integers you get from `range` always point to the start of a batch, and each window is `seq_length` wide.\n",
        "\n",
        "> **TODO:** Write the code for creating batches in the function below. The exercises in this notebook _will not be easy_. I've provided a notebook with solutions alongside this notebook. If you get stuck, checkout the solutions. The most important thing is that you don't copy and paste the code into here, **type out the solution code yourself.**"
      ]
    },
    {
      "cell_type": "code",
      "metadata": {
        "id": "n2BtYzOFhGeL",
        "colab_type": "code",
        "colab": {}
      },
      "source": [
        "def get_batches(arr, batch_size, seq_length):\n",
        "    '''Create a generator that returns batches of size\n",
        "       batch_size x seq_length from arr.\n",
        "       \n",
        "       Arguments\n",
        "       ---------\n",
        "       arr: Array you want to make batches from\n",
        "       batch_size: Batch size, the number of sequences per batch\n",
        "       seq_length: Number of encoded chars in a sequence\n",
        "    '''\n",
        "    batch_size_total = batch_size * seq_length\n",
        "    # total number of batches we can make\n",
        "    n_batches = len(arr)//batch_size_total\n",
        "    \n",
        "    # Keep only enough characters to make full batches\n",
        "    arr = arr[:n_batches * batch_size_total]\n",
        "    # Reshape into batch_size rows\n",
        "    arr = arr.reshape((batch_size, -1))\n",
        "    #print(arr.shape)\n",
        "    # iterate through the array, one sequence at a time\n",
        "    for n in range(0, arr.shape[1], seq_length):\n",
        "        # The features\n",
        "        x = arr[:, n:n+seq_length]\n",
        "        # The targets, shifted by one\n",
        "        y = np.zeros_like(x)\n",
        "        try:\n",
        "            y[:, :-1], y[:, -1] = x[:, 1:], arr[:, n+seq_length]\n",
        "        except IndexError:\n",
        "            y[:, :-1], y[:, -1] = x[:, 1:], arr[:, 0]\n",
        "        yield x, y\n",
        "   "
      ],
      "execution_count": 0,
      "outputs": []
    },
    {
      "cell_type": "markdown",
      "metadata": {
        "id": "PaRzgGXYhGeU",
        "colab_type": "text"
      },
      "source": [
        "### Test Your Implementation\n",
        "\n",
        "Now I'll make some data sets and we can check out what's going on as we batch data. Here, as an example, I'm going to use a batch size of 8 and 50 sequence steps."
      ]
    },
    {
      "cell_type": "code",
      "metadata": {
        "id": "9bnrjDTjhGeV",
        "colab_type": "code",
        "colab": {
          "base_uri": "https://localhost:8080/",
          "height": 51
        },
        "outputId": "122764a6-bce9-49a0-91f9-612e986d0113"
      },
      "source": [
        "#encoded = np.array([x for x in range(1985220)])\n",
        "batches = get_batches(encoded, 8, 50)\n",
        "x, y = next(batches)\n",
        "print(encoded[:10])\n",
        "print(x.shape, y.shape)"
      ],
      "execution_count": 11,
      "outputs": [
        {
          "output_type": "stream",
          "text": [
            "[29 40  9  8 52 35 72  0  5 56]\n",
            "(8, 50) (8, 50)\n"
          ],
          "name": "stdout"
        }
      ]
    },
    {
      "cell_type": "code",
      "metadata": {
        "id": "DUbJz9ashGea",
        "colab_type": "code",
        "colab": {
          "base_uri": "https://localhost:8080/",
          "height": 680
        },
        "outputId": "ec7277d9-a17e-4b2c-89f0-dbb1c961a780"
      },
      "source": [
        "# printing out the first 10 items in a sequence\n",
        "print('x\\n', x.shape, '\\n', x[:,:5], '\\n\\n', x[:,-5:])\n",
        "print('\\ny\\n', y.shape, '\\n',y[:,:5], '\\n\\n', y[:,-5:])"
      ],
      "execution_count": 12,
      "outputs": [
        {
          "output_type": "stream",
          "text": [
            "x\n",
            " (8, 50) \n",
            " [[29 40  9  8 52]\n",
            " [12 28 79  0 52]\n",
            " [35 79  3  0 28]\n",
            " [12  0 52 40 35]\n",
            " [ 0 12  9 75  0]\n",
            " [67 22 12 12 21]\n",
            " [ 0 25 79 79  9]\n",
            " [62 70 74 28 79]] \n",
            "\n",
            " [[72 43  0 22 79]\n",
            " [ 9 79  3 37  0]\n",
            " [ 3  0 72 28 22]\n",
            " [35 32  0 28 44]\n",
            " [21 12 35 72  9]\n",
            " [35 35  9 70 74]\n",
            " [ 3  0 52 40 21]\n",
            " [43  4  0  9 72]]\n",
            "\n",
            "y\n",
            " (8, 50) \n",
            " [[40  9  8 52 35]\n",
            " [28 79  0 52 40]\n",
            " [79  3  0 28 72]\n",
            " [ 0 52 40 35  0]\n",
            " [12  9 75  0 40]\n",
            " [22 12 12 21 28]\n",
            " [25 79 79  9  0]\n",
            " [70 74 28 79 12]] \n",
            "\n",
            " [[43  0 22 79 40]\n",
            " [79  3 37  0 17]\n",
            " [ 0 72 28 22 79]\n",
            " [32  0 28 44  0]\n",
            " [12 35 72  9 70]\n",
            " [35  9 70 74 35]\n",
            " [ 0 52 40 21 12]\n",
            " [ 4  0  9 72 35]]\n"
          ],
          "name": "stdout"
        }
      ]
    },
    {
      "cell_type": "markdown",
      "metadata": {
        "id": "AfHe1fqrhGee",
        "colab_type": "text"
      },
      "source": [
        "If you implemented `get_batches` correctly, the above output should look something like \n",
        "```\n",
        "x\n",
        " [[25  8 60 11 45 27 28 73  1  2]\n",
        " [17  7 20 73 45  8 60 45 73 60]\n",
        " [27 20 80 73  7 28 73 60 73 65]\n",
        " [17 73 45  8 27 73 66  8 46 27]\n",
        " [73 17 60 12 73  8 27 28 73 45]\n",
        " [66 64 17 17 46  7 20 73 60 20]\n",
        " [73 76 20 20 60 73  8 60 80 73]\n",
        " [47 35 43  7 20 17 24 50 37 73]]\n",
        "\n",
        "y\n",
        " [[ 8 60 11 45 27 28 73  1  2  2]\n",
        " [ 7 20 73 45  8 60 45 73 60 45]\n",
        " [20 80 73  7 28 73 60 73 65  7]\n",
        " [73 45  8 27 73 66  8 46 27 65]\n",
        " [17 60 12 73  8 27 28 73 45 27]\n",
        " [64 17 17 46  7 20 73 60 20 80]\n",
        " [76 20 20 60 73  8 60 80 73 17]\n",
        " [35 43  7 20 17 24 50 37 73 36]]\n",
        " ```\n",
        " although the exact numbers may be different. Check to make sure the data is shifted over one step for `y`."
      ]
    },
    {
      "cell_type": "markdown",
      "metadata": {
        "id": "2GaOGev0hGek",
        "colab_type": "text"
      },
      "source": [
        "---\n",
        "## Defining the network with PyTorch\n",
        "\n",
        "Below is where you'll define the network.\n",
        "\n",
        "<img src=\"https://github.com/olivetom/deep-learning-v2-pytorch/blob/master/recurrent-neural-networks/char-rnn/assets/charRNN.png?raw=1\" width=500px>\n",
        "\n",
        "Next, you'll use PyTorch to define the architecture of the network. We start by defining the layers and operations we want. Then, define a method for the forward pass. You've also been given a method for predicting characters."
      ]
    },
    {
      "cell_type": "markdown",
      "metadata": {
        "id": "mThmbvl8hGel",
        "colab_type": "text"
      },
      "source": [
        "### Model Structure\n",
        "\n",
        "In `__init__` the suggested structure is as follows:\n",
        "* Create and store the necessary dictionaries (this has been done for you)\n",
        "* Define an LSTM layer that takes as params: an input size (the number of characters), a hidden layer size `n_hidden`, a number of layers `n_layers`, a dropout probability `drop_prob`, and a batch_first boolean (True, since we are batching)\n",
        "* Define a dropout layer with `drop_prob`\n",
        "* Define a fully-connected layer with params: input size `n_hidden` and output size (the number of characters)\n",
        "* Finally, initialize the weights (again, this has been given)\n",
        "\n",
        "Note that some parameters have been named and given in the `__init__` function, and we use them and store them by doing something like `self.drop_prob = drop_prob`."
      ]
    },
    {
      "cell_type": "markdown",
      "metadata": {
        "id": "Ftn4WHsQhGen",
        "colab_type": "text"
      },
      "source": [
        "---\n",
        "### LSTM Inputs/Outputs\n",
        "\n",
        "You can create a basic [LSTM layer](https://pytorch.org/docs/stable/nn.html#lstm) as follows\n",
        "\n",
        "```python\n",
        "self.lstm = nn.LSTM(input_size, n_hidden, n_layers, \n",
        "                            dropout=drop_prob, batch_first=True)\n",
        "```\n",
        "\n",
        "where `input_size` is the number of characters this cell expects to see as sequential input, and `n_hidden` is the number of units in the hidden layers in the cell. And we can add dropout by adding a dropout parameter with a specified probability; this will automatically add dropout to the inputs or outputs. Finally, in the `forward` function, we can stack up the LSTM cells into layers using `.view`. With this, you pass in a list of cells and it will send the output of one cell into the next cell.\n",
        "\n",
        "We also need to create an initial hidden state of all zeros. This is done like so\n",
        "\n",
        "```python\n",
        "self.init_hidden()\n",
        "```"
      ]
    },
    {
      "cell_type": "code",
      "metadata": {
        "id": "D80MO5BohGep",
        "colab_type": "code",
        "colab": {
          "base_uri": "https://localhost:8080/",
          "height": 34
        },
        "outputId": "cf295453-111b-4631-ea81-3fa94dd277be"
      },
      "source": [
        "# check if GPU is available\n",
        "train_on_gpu = torch.cuda.is_available()\n",
        "if(train_on_gpu):\n",
        "    print('Training on GPU!')\n",
        "else: \n",
        "    print('No GPU available, training on CPU; consider making n_epochs very small.')"
      ],
      "execution_count": 13,
      "outputs": [
        {
          "output_type": "stream",
          "text": [
            "Training on GPU!\n"
          ],
          "name": "stdout"
        }
      ]
    },
    {
      "cell_type": "code",
      "metadata": {
        "id": "K4FqpiumhGeu",
        "colab_type": "code",
        "colab": {}
      },
      "source": [
        "class CharRNN(nn.Module):\n",
        "    \n",
        "    def __init__(self, tokens, n_hidden=256, n_layers=2,\n",
        "                               drop_prob=0.5, lr=0.001):\n",
        "        super().__init__()\n",
        "        self.drop_prob = drop_prob\n",
        "        self.n_layers = n_layers\n",
        "        self.n_hidden = n_hidden\n",
        "        self.lr = lr\n",
        "        \n",
        "        # creating character dictionaries\n",
        "        self.chars = tokens\n",
        "        self.int2char = dict(enumerate(self.chars))\n",
        "        self.char2int = {ch: ii for ii, ch in self.int2char.items()}\n",
        "        \n",
        "        ## TODO: define the layers of the model\n",
        "        self.lstm = nn.LSTM(len(self.chars), n_hidden, n_layers, \n",
        "                            dropout=drop_prob, batch_first=True)\n",
        "        \n",
        "        self.dropout = nn.Dropout(drop_prob)\n",
        "        \n",
        "        self.fc = nn.Linear(n_hidden, len(self.chars))\n",
        "      \n",
        "    \n",
        "    def forward(self, x, hidden):\n",
        "        ''' Forward pass through the network. \n",
        "            These inputs are x, and the hidden/cell state `hidden`. '''\n",
        "                \n",
        "        ## TODO: Get the outputs and the new hidden state from the lstm\n",
        "        r_output, hidden = self.lstm(x, hidden)\n",
        "        out = self.dropout(r_output)\n",
        "        out = out.contiguous().view(-1, self.n_hidden)\n",
        "        out = self.fc(out)\n",
        "\n",
        "        # return the final output and the hidden state\n",
        "        return out, hidden\n",
        "    \n",
        "    \n",
        "    def init_hidden(self, batch_size):\n",
        "        ''' Initializes hidden state '''\n",
        "        # Create two new tensors with sizes n_layers x batch_size x n_hidden,\n",
        "        # initialized to zero, for hidden state and cell state of LSTM\n",
        "        weight = next(self.parameters()).data\n",
        "        \n",
        "        if (train_on_gpu):\n",
        "            hidden = (weight.new(self.n_layers, batch_size, self.n_hidden).zero_().cuda(),\n",
        "                  weight.new(self.n_layers, batch_size, self.n_hidden).zero_().cuda())\n",
        "        else:\n",
        "            hidden = (weight.new(self.n_layers, batch_size, self.n_hidden).zero_(),\n",
        "                      weight.new(self.n_layers, batch_size, self.n_hidden).zero_())\n",
        "        \n",
        "        return hidden\n",
        "        "
      ],
      "execution_count": 0,
      "outputs": []
    },
    {
      "cell_type": "markdown",
      "metadata": {
        "id": "V_jWyqbEhGez",
        "colab_type": "text"
      },
      "source": [
        "## Time to train\n",
        "\n",
        "The train function gives us the ability to set the number of epochs, the learning rate, and other parameters.\n",
        "\n",
        "Below we're using an Adam optimizer and cross entropy loss since we are looking at character class scores as output. We calculate the loss and perform backpropagation, as usual!\n",
        "\n",
        "A couple of details about training: \n",
        ">* Within the batch loop, we detach the hidden state from its history; this time setting it equal to a new *tuple* variable because an LSTM has a hidden state that is a tuple of the hidden and cell states.\n",
        "* We use [`clip_grad_norm_`](https://pytorch.org/docs/stable/_modules/torch/nn/utils/clip_grad.html) to help prevent exploding gradients."
      ]
    },
    {
      "cell_type": "code",
      "metadata": {
        "id": "8RkhRfukhGe3",
        "colab_type": "code",
        "colab": {}
      },
      "source": [
        "def train(net, data, epochs=10, batch_size=10, seq_length=50, lr=0.001, clip=5, val_frac=0.1, print_every=10):\n",
        "    ''' Training a network \n",
        "    \n",
        "        Arguments\n",
        "        ---------\n",
        "        \n",
        "        net: CharRNN network\n",
        "        data: text data to train the network\n",
        "        epochs: Number of epochs to train\n",
        "        batch_size: Number of mini-sequences per mini-batch, aka batch size\n",
        "        seq_length: Number of character steps per mini-batch\n",
        "        lr: learning rate\n",
        "        clip: gradient clipping\n",
        "        val_frac: Fraction of data to hold out for validation\n",
        "        print_every: Number of steps for printing training and validation loss\n",
        "    \n",
        "    '''\n",
        "    net.train()\n",
        "    \n",
        "    opt = torch.optim.Adam(net.parameters(), lr=lr)\n",
        "    criterion = nn.CrossEntropyLoss()\n",
        "    \n",
        "    # create training and validation data\n",
        "    val_idx = int(len(data)*(1-val_frac))\n",
        "    data, val_data = data[:val_idx], data[val_idx:]\n",
        "    \n",
        "    if(train_on_gpu):\n",
        "        net.cuda()\n",
        "    \n",
        "    counter = 0\n",
        "    n_chars = len(net.chars)\n",
        "    for e in range(epochs):\n",
        "        # initialize hidden state\n",
        "        h = net.init_hidden(batch_size)\n",
        "        \n",
        "        for x, y in get_batches(data, batch_size, seq_length):\n",
        "            counter += 1\n",
        "            \n",
        "            # One-hot encode our data and make them Torch tensors\n",
        "            x = one_hot_encode(x, n_chars)\n",
        "            inputs, targets = torch.from_numpy(x), torch.from_numpy(y)\n",
        "            \n",
        "            if(train_on_gpu):\n",
        "                inputs, targets = inputs.cuda(), targets.cuda()\n",
        "\n",
        "            # Creating new variables for the hidden state, otherwise\n",
        "            # we'd backprop through the entire training history\n",
        "            h = tuple([each.data for each in h])\n",
        "\n",
        "            # zero accumulated gradients\n",
        "            net.zero_grad()\n",
        "            \n",
        "            # get the output from the model\n",
        "            output, h = net(inputs, h)\n",
        "            \n",
        "            # calculate the loss and perform backprop\n",
        "            loss = criterion(output, targets.view(batch_size*seq_length).long())\n",
        "            loss.backward()\n",
        "            # `clip_grad_norm` helps prevent the exploding gradient problem in RNNs / LSTMs.\n",
        "            nn.utils.clip_grad_norm_(net.parameters(), clip)\n",
        "            opt.step()\n",
        "            \n",
        "            # loss stats\n",
        "            if counter % print_every == 0:\n",
        "                # Get validation loss\n",
        "                val_h = net.init_hidden(batch_size)\n",
        "                val_losses = []\n",
        "                net.eval()\n",
        "                for x, y in get_batches(val_data, batch_size, seq_length):\n",
        "                    # One-hot encode our data and make them Torch tensors\n",
        "                    x = one_hot_encode(x, n_chars)\n",
        "                    x, y = torch.from_numpy(x), torch.from_numpy(y)\n",
        "                    \n",
        "                    # Creating new variables for the hidden state, otherwise\n",
        "                    # we'd backprop through the entire training history\n",
        "                    val_h = tuple([each.data for each in val_h])\n",
        "                    \n",
        "                    inputs, targets = x, y\n",
        "                    if(train_on_gpu):\n",
        "                        inputs, targets = inputs.cuda(), targets.cuda()\n",
        "\n",
        "                    output, val_h = net(inputs, val_h)\n",
        "                    val_loss = criterion(output, targets.view(batch_size*seq_length).long())\n",
        "                \n",
        "                    val_losses.append(val_loss.item())\n",
        "                \n",
        "                net.train() # reset to train mode after iterationg through validation data\n",
        "                \n",
        "                print(\"Epoch: {}/{}...\".format(e+1, epochs),\n",
        "                      \"Step: {}...\".format(counter),\n",
        "                      \"Loss: {:.4f}...\".format(loss.item()),\n",
        "                      \"Val Loss: {:.4f}\".format(np.mean(val_losses)))"
      ],
      "execution_count": 0,
      "outputs": []
    },
    {
      "cell_type": "markdown",
      "metadata": {
        "id": "KN_Wm7bBhGe8",
        "colab_type": "text"
      },
      "source": [
        "## Instantiating the model\n",
        "\n",
        "Now we can actually train the network. First we'll create the network itself, with some given hyperparameters. Then, define the mini-batches sizes, and start training!"
      ]
    },
    {
      "cell_type": "code",
      "metadata": {
        "id": "FKO5mgkihGe9",
        "colab_type": "code",
        "colab": {
          "base_uri": "https://localhost:8080/",
          "height": 102
        },
        "outputId": "ce462132-4146-491d-db1c-d3c78e4bef1b"
      },
      "source": [
        "## TODO: set your model hyperparameters\n",
        "# define and print the net\n",
        "n_hidden=1024\n",
        "n_layers=3\n",
        "\n",
        "net = CharRNN(chars, n_hidden, n_layers)\n",
        "print(net)"
      ],
      "execution_count": 26,
      "outputs": [
        {
          "output_type": "stream",
          "text": [
            "CharRNN(\n",
            "  (lstm): LSTM(83, 1024, num_layers=3, batch_first=True, dropout=0.5)\n",
            "  (dropout): Dropout(p=0.5, inplace=False)\n",
            "  (fc): Linear(in_features=1024, out_features=83, bias=True)\n",
            ")\n"
          ],
          "name": "stdout"
        }
      ]
    },
    {
      "cell_type": "markdown",
      "metadata": {
        "id": "gw-UP3eHhGfF",
        "colab_type": "text"
      },
      "source": [
        "### Set your training hyperparameters!"
      ]
    },
    {
      "cell_type": "code",
      "metadata": {
        "id": "RGE8c6WnhGfH",
        "colab_type": "code",
        "colab": {
          "base_uri": "https://localhost:8080/",
          "height": 34
        },
        "outputId": "b8944438-5871-467a-cf7e-8670dfa44ce4"
      },
      "source": [
        "# check if GPU is available\n",
        "train_on_gpu = torch.cuda.is_available()\n",
        "if(train_on_gpu):\n",
        "    print('Training on GPU!')\n",
        "else: \n",
        "    print('No GPU available, training on CPU; consider making n_epochs very small.')"
      ],
      "execution_count": 17,
      "outputs": [
        {
          "output_type": "stream",
          "text": [
            "Training on GPU!\n"
          ],
          "name": "stdout"
        }
      ]
    },
    {
      "cell_type": "code",
      "metadata": {
        "id": "p9UpJ4cThGfO",
        "colab_type": "code",
        "colab": {
          "base_uri": "https://localhost:8080/",
          "height": 1000
        },
        "outputId": "3e0aef04-967b-4c03-b333-c9692d6c1673"
      },
      "source": [
        "batch_size = 80 # given 2M chars aprox\n",
        "seq_length = 100\n",
        "n_epochs =  10 # start small if you are just testing initial behavior\n",
        "\n",
        "# train the model\n",
        "train(net, encoded, epochs=n_epochs, batch_size=batch_size, seq_length=seq_length, lr=0.001, print_every=10)"
      ],
      "execution_count": 27,
      "outputs": [
        {
          "output_type": "stream",
          "text": [
            "Epoch: 1/10... Step: 10... Loss: 3.2496... Val Loss: 3.1625\n",
            "Epoch: 1/10... Step: 20... Loss: 3.1822... Val Loss: 3.1314\n",
            "Epoch: 1/10... Step: 30... Loss: 3.1398... Val Loss: 3.1620\n",
            "Epoch: 1/10... Step: 40... Loss: 3.1821... Val Loss: 3.1894\n",
            "Epoch: 1/10... Step: 50... Loss: 3.1396... Val Loss: 3.2235\n",
            "Epoch: 1/10... Step: 60... Loss: 3.1178... Val Loss: 3.2415\n",
            "Epoch: 1/10... Step: 70... Loss: 3.1408... Val Loss: 3.2496\n",
            "Epoch: 1/10... Step: 80... Loss: 3.1353... Val Loss: 3.2530\n",
            "Epoch: 1/10... Step: 90... Loss: 3.1341... Val Loss: 3.2544\n",
            "Epoch: 1/10... Step: 100... Loss: 3.1445... Val Loss: 3.2549\n",
            "Epoch: 1/10... Step: 110... Loss: 3.1308... Val Loss: 3.2551\n",
            "Epoch: 1/10... Step: 120... Loss: 3.1395... Val Loss: 3.2552\n",
            "Epoch: 1/10... Step: 130... Loss: 3.1178... Val Loss: 3.2552\n",
            "Epoch: 1/10... Step: 140... Loss: 3.1352... Val Loss: 3.2552\n",
            "Epoch: 1/10... Step: 150... Loss: 3.1019... Val Loss: 3.2551\n",
            "Epoch: 1/10... Step: 160... Loss: 3.1120... Val Loss: 3.2551\n",
            "Epoch: 1/10... Step: 170... Loss: 3.1185... Val Loss: 3.2551\n",
            "Epoch: 1/10... Step: 180... Loss: 3.1435... Val Loss: 3.2551\n",
            "Epoch: 1/10... Step: 190... Loss: 3.0847... Val Loss: 3.2551\n",
            "Epoch: 1/10... Step: 200... Loss: 3.1223... Val Loss: 3.2550\n",
            "Epoch: 1/10... Step: 210... Loss: 3.1281... Val Loss: 3.2550\n",
            "Epoch: 1/10... Step: 220... Loss: 3.1067... Val Loss: 3.2550\n",
            "Epoch: 2/10... Step: 230... Loss: 3.1406... Val Loss: 3.1467\n",
            "Epoch: 2/10... Step: 240... Loss: 3.1528... Val Loss: 3.1326\n",
            "Epoch: 2/10... Step: 250... Loss: 3.1399... Val Loss: 3.1247\n",
            "Epoch: 2/10... Step: 260... Loss: 3.1396... Val Loss: 3.1226\n",
            "Epoch: 2/10... Step: 270... Loss: 3.1346... Val Loss: 3.1200\n",
            "Epoch: 2/10... Step: 280... Loss: 3.0994... Val Loss: 3.1197\n",
            "Epoch: 2/10... Step: 290... Loss: 3.1307... Val Loss: 3.1213\n",
            "Epoch: 2/10... Step: 300... Loss: 3.1083... Val Loss: 3.1196\n",
            "Epoch: 2/10... Step: 310... Loss: 3.1392... Val Loss: 3.1191\n",
            "Epoch: 2/10... Step: 320... Loss: 3.1054... Val Loss: 3.1198\n",
            "Epoch: 2/10... Step: 330... Loss: 3.1266... Val Loss: 3.1190\n",
            "Epoch: 2/10... Step: 340... Loss: 3.1351... Val Loss: 3.1205\n",
            "Epoch: 2/10... Step: 350... Loss: 3.0936... Val Loss: 3.1194\n",
            "Epoch: 2/10... Step: 360... Loss: 3.0975... Val Loss: 3.1199\n",
            "Epoch: 2/10... Step: 370... Loss: 3.1095... Val Loss: 3.1208\n",
            "Epoch: 2/10... Step: 380... Loss: 3.0930... Val Loss: 3.1209\n",
            "Epoch: 2/10... Step: 390... Loss: 3.1046... Val Loss: 3.1191\n",
            "Epoch: 2/10... Step: 400... Loss: 3.1131... Val Loss: 3.1188\n",
            "Epoch: 2/10... Step: 410... Loss: 3.1076... Val Loss: 3.1180\n",
            "Epoch: 2/10... Step: 420... Loss: 3.1323... Val Loss: 3.1170\n",
            "Epoch: 2/10... Step: 430... Loss: 3.1050... Val Loss: 3.1141\n",
            "Epoch: 2/10... Step: 440... Loss: 3.1287... Val Loss: 3.1035\n",
            "Epoch: 3/10... Step: 450... Loss: 3.0643... Val Loss: 3.0873\n",
            "Epoch: 3/10... Step: 460... Loss: 3.0539... Val Loss: 3.0569\n",
            "Epoch: 3/10... Step: 470... Loss: 2.9805... Val Loss: 2.9854\n",
            "Epoch: 3/10... Step: 480... Loss: 2.9146... Val Loss: 2.8725\n",
            "Epoch: 3/10... Step: 490... Loss: 2.8312... Val Loss: 2.8196\n",
            "Epoch: 3/10... Step: 500... Loss: 2.7910... Val Loss: 2.7432\n",
            "Epoch: 3/10... Step: 510... Loss: 2.7395... Val Loss: 2.6957\n",
            "Epoch: 3/10... Step: 520... Loss: 2.6865... Val Loss: 2.6382\n",
            "Epoch: 3/10... Step: 530... Loss: 2.5953... Val Loss: 2.5985\n",
            "Epoch: 3/10... Step: 540... Loss: 2.5815... Val Loss: 2.5583\n",
            "Epoch: 3/10... Step: 550... Loss: 2.5480... Val Loss: 2.5583\n",
            "Epoch: 3/10... Step: 560... Loss: 2.5011... Val Loss: 2.5249\n",
            "Epoch: 3/10... Step: 570... Loss: 2.4658... Val Loss: 2.5157\n",
            "Epoch: 3/10... Step: 580... Loss: 2.4438... Val Loss: 2.5093\n",
            "Epoch: 3/10... Step: 590... Loss: 2.4247... Val Loss: 2.5118\n",
            "Epoch: 3/10... Step: 600... Loss: 2.3527... Val Loss: 2.5145\n",
            "Epoch: 3/10... Step: 610... Loss: 2.3709... Val Loss: 2.5281\n",
            "Epoch: 3/10... Step: 620... Loss: 2.3424... Val Loss: 2.5057\n",
            "Epoch: 3/10... Step: 630... Loss: 2.2947... Val Loss: 2.4943\n",
            "Epoch: 3/10... Step: 640... Loss: 2.3117... Val Loss: 2.5797\n",
            "Epoch: 3/10... Step: 650... Loss: 2.2801... Val Loss: 2.5702\n",
            "Epoch: 3/10... Step: 660... Loss: 2.2450... Val Loss: 2.5561\n",
            "Epoch: 4/10... Step: 670... Loss: 2.6304... Val Loss: 2.3616\n",
            "Epoch: 4/10... Step: 680... Loss: 2.2823... Val Loss: 2.1819\n",
            "Epoch: 4/10... Step: 690... Loss: 2.2692... Val Loss: 2.1509\n",
            "Epoch: 4/10... Step: 700... Loss: 2.2317... Val Loss: 2.1267\n",
            "Epoch: 4/10... Step: 710... Loss: 2.1112... Val Loss: 2.1135\n",
            "Epoch: 4/10... Step: 720... Loss: 2.1013... Val Loss: 2.0938\n",
            "Epoch: 4/10... Step: 730... Loss: 2.1156... Val Loss: 2.0723\n",
            "Epoch: 4/10... Step: 740... Loss: 2.0702... Val Loss: 2.0605\n",
            "Epoch: 4/10... Step: 750... Loss: 2.0383... Val Loss: 2.0391\n",
            "Epoch: 4/10... Step: 760... Loss: 2.0620... Val Loss: 2.0166\n",
            "Epoch: 4/10... Step: 770... Loss: 2.0370... Val Loss: 1.9975\n",
            "Epoch: 4/10... Step: 780... Loss: 2.0044... Val Loss: 1.9883\n",
            "Epoch: 4/10... Step: 790... Loss: 1.9970... Val Loss: 1.9722\n",
            "Epoch: 4/10... Step: 800... Loss: 1.9752... Val Loss: 1.9520\n",
            "Epoch: 4/10... Step: 810... Loss: 1.9457... Val Loss: 1.9345\n",
            "Epoch: 4/10... Step: 820... Loss: 1.9481... Val Loss: 1.9207\n",
            "Epoch: 4/10... Step: 830... Loss: 1.9208... Val Loss: 1.9094\n",
            "Epoch: 4/10... Step: 840... Loss: 1.9308... Val Loss: 1.8915\n",
            "Epoch: 4/10... Step: 850... Loss: 1.8586... Val Loss: 1.8732\n",
            "Epoch: 4/10... Step: 860... Loss: 1.8645... Val Loss: 1.8646\n",
            "Epoch: 4/10... Step: 870... Loss: 1.8533... Val Loss: 1.8453\n",
            "Epoch: 4/10... Step: 880... Loss: 1.8625... Val Loss: 1.8308\n",
            "Epoch: 4/10... Step: 890... Loss: 1.8024... Val Loss: 1.8177\n",
            "Epoch: 5/10... Step: 900... Loss: 1.8034... Val Loss: 1.8065\n",
            "Epoch: 5/10... Step: 910... Loss: 1.8297... Val Loss: 1.7921\n",
            "Epoch: 5/10... Step: 920... Loss: 1.7940... Val Loss: 1.7815\n",
            "Epoch: 5/10... Step: 930... Loss: 1.7823... Val Loss: 1.7682\n",
            "Epoch: 5/10... Step: 940... Loss: 1.8227... Val Loss: 1.7586\n",
            "Epoch: 5/10... Step: 950... Loss: 1.7843... Val Loss: 1.7483\n",
            "Epoch: 5/10... Step: 960... Loss: 1.7348... Val Loss: 1.7360\n",
            "Epoch: 5/10... Step: 970... Loss: 1.7722... Val Loss: 1.7309\n",
            "Epoch: 5/10... Step: 980... Loss: 1.6829... Val Loss: 1.7159\n",
            "Epoch: 5/10... Step: 990... Loss: 1.7345... Val Loss: 1.7100\n",
            "Epoch: 5/10... Step: 1000... Loss: 1.7035... Val Loss: 1.6976\n",
            "Epoch: 5/10... Step: 1010... Loss: 1.6847... Val Loss: 1.6871\n",
            "Epoch: 5/10... Step: 1020... Loss: 1.7090... Val Loss: 1.6786\n",
            "Epoch: 5/10... Step: 1030... Loss: 1.6781... Val Loss: 1.6707\n",
            "Epoch: 5/10... Step: 1040... Loss: 1.6809... Val Loss: 1.6647\n",
            "Epoch: 5/10... Step: 1050... Loss: 1.6969... Val Loss: 1.6568\n",
            "Epoch: 5/10... Step: 1060... Loss: 1.6709... Val Loss: 1.6442\n",
            "Epoch: 5/10... Step: 1070... Loss: 1.6216... Val Loss: 1.6385\n",
            "Epoch: 5/10... Step: 1080... Loss: 1.6412... Val Loss: 1.6313\n",
            "Epoch: 5/10... Step: 1090... Loss: 1.6294... Val Loss: 1.6248\n",
            "Epoch: 5/10... Step: 1100... Loss: 1.6121... Val Loss: 1.6151\n",
            "Epoch: 5/10... Step: 1110... Loss: 1.6249... Val Loss: 1.6085\n",
            "Epoch: 6/10... Step: 1120... Loss: 1.6153... Val Loss: 1.6035\n",
            "Epoch: 6/10... Step: 1130... Loss: 1.5965... Val Loss: 1.5950\n",
            "Epoch: 6/10... Step: 1140... Loss: 1.5989... Val Loss: 1.5832\n",
            "Epoch: 6/10... Step: 1150... Loss: 1.5840... Val Loss: 1.5773\n",
            "Epoch: 6/10... Step: 1160... Loss: 1.5702... Val Loss: 1.5711\n",
            "Epoch: 6/10... Step: 1170... Loss: 1.5695... Val Loss: 1.5655\n",
            "Epoch: 6/10... Step: 1180... Loss: 1.5381... Val Loss: 1.5613\n",
            "Epoch: 6/10... Step: 1190... Loss: 1.6017... Val Loss: 1.5555\n",
            "Epoch: 6/10... Step: 1200... Loss: 1.5482... Val Loss: 1.5514\n",
            "Epoch: 6/10... Step: 1210... Loss: 1.5409... Val Loss: 1.5447\n",
            "Epoch: 6/10... Step: 1220... Loss: 1.5354... Val Loss: 1.5368\n",
            "Epoch: 6/10... Step: 1230... Loss: 1.5421... Val Loss: 1.5303\n",
            "Epoch: 6/10... Step: 1240... Loss: 1.5457... Val Loss: 1.5269\n",
            "Epoch: 6/10... Step: 1250... Loss: 1.5596... Val Loss: 1.5274\n",
            "Epoch: 6/10... Step: 1260... Loss: 1.5531... Val Loss: 1.5172\n",
            "Epoch: 6/10... Step: 1270... Loss: 1.5241... Val Loss: 1.5107\n",
            "Epoch: 6/10... Step: 1280... Loss: 1.5420... Val Loss: 1.5071\n",
            "Epoch: 6/10... Step: 1290... Loss: 1.4911... Val Loss: 1.5031\n",
            "Epoch: 6/10... Step: 1300... Loss: 1.4961... Val Loss: 1.5009\n",
            "Epoch: 6/10... Step: 1310... Loss: 1.5030... Val Loss: 1.4989\n",
            "Epoch: 6/10... Step: 1320... Loss: 1.4296... Val Loss: 1.4944\n",
            "Epoch: 6/10... Step: 1330... Loss: 1.4783... Val Loss: 1.4892\n",
            "Epoch: 7/10... Step: 1340... Loss: 1.4813... Val Loss: 1.4844\n",
            "Epoch: 7/10... Step: 1350... Loss: 1.4681... Val Loss: 1.4836\n",
            "Epoch: 7/10... Step: 1360... Loss: 1.4930... Val Loss: 1.4767\n",
            "Epoch: 7/10... Step: 1370... Loss: 1.4385... Val Loss: 1.4716\n",
            "Epoch: 7/10... Step: 1380... Loss: 1.4779... Val Loss: 1.4663\n",
            "Epoch: 7/10... Step: 1390... Loss: 1.4370... Val Loss: 1.4662\n",
            "Epoch: 7/10... Step: 1400... Loss: 1.4206... Val Loss: 1.4612\n",
            "Epoch: 7/10... Step: 1410... Loss: 1.4237... Val Loss: 1.4598\n",
            "Epoch: 7/10... Step: 1420... Loss: 1.4514... Val Loss: 1.4539\n",
            "Epoch: 7/10... Step: 1430... Loss: 1.3853... Val Loss: 1.4511\n",
            "Epoch: 7/10... Step: 1440... Loss: 1.4262... Val Loss: 1.4484\n",
            "Epoch: 7/10... Step: 1450... Loss: 1.4166... Val Loss: 1.4434\n",
            "Epoch: 7/10... Step: 1460... Loss: 1.4093... Val Loss: 1.4421\n",
            "Epoch: 7/10... Step: 1470... Loss: 1.4472... Val Loss: 1.4366\n",
            "Epoch: 7/10... Step: 1480... Loss: 1.4742... Val Loss: 1.4376\n",
            "Epoch: 7/10... Step: 1490... Loss: 1.4147... Val Loss: 1.4302\n",
            "Epoch: 7/10... Step: 1500... Loss: 1.4533... Val Loss: 1.4282\n",
            "Epoch: 7/10... Step: 1510... Loss: 1.3939... Val Loss: 1.4260\n",
            "Epoch: 7/10... Step: 1520... Loss: 1.4026... Val Loss: 1.4211\n",
            "Epoch: 7/10... Step: 1530... Loss: 1.3792... Val Loss: 1.4212\n",
            "Epoch: 7/10... Step: 1540... Loss: 1.4070... Val Loss: 1.4191\n",
            "Epoch: 7/10... Step: 1550... Loss: 1.4006... Val Loss: 1.4143\n",
            "Epoch: 7/10... Step: 1560... Loss: 1.4132... Val Loss: 1.4199\n",
            "Epoch: 8/10... Step: 1570... Loss: 1.3657... Val Loss: 1.4095\n",
            "Epoch: 8/10... Step: 1580... Loss: 1.4077... Val Loss: 1.4068\n",
            "Epoch: 8/10... Step: 1590... Loss: 1.3727... Val Loss: 1.4044\n",
            "Epoch: 8/10... Step: 1600... Loss: 1.3785... Val Loss: 1.4027\n",
            "Epoch: 8/10... Step: 1610... Loss: 1.3796... Val Loss: 1.4015\n",
            "Epoch: 8/10... Step: 1620... Loss: 1.3859... Val Loss: 1.4000\n",
            "Epoch: 8/10... Step: 1630... Loss: 1.3864... Val Loss: 1.3987\n",
            "Epoch: 8/10... Step: 1640... Loss: 1.3849... Val Loss: 1.3970\n",
            "Epoch: 8/10... Step: 1650... Loss: 1.3708... Val Loss: 1.3950\n",
            "Epoch: 8/10... Step: 1660... Loss: 1.3653... Val Loss: 1.3952\n",
            "Epoch: 8/10... Step: 1670... Loss: 1.3350... Val Loss: 1.3880\n",
            "Epoch: 8/10... Step: 1680... Loss: 1.3109... Val Loss: 1.3894\n",
            "Epoch: 8/10... Step: 1690... Loss: 1.3122... Val Loss: 1.3878\n",
            "Epoch: 8/10... Step: 1700... Loss: 1.3796... Val Loss: 1.3837\n",
            "Epoch: 8/10... Step: 1710... Loss: 1.3619... Val Loss: 1.3804\n",
            "Epoch: 8/10... Step: 1720... Loss: 1.3249... Val Loss: 1.3815\n",
            "Epoch: 8/10... Step: 1730... Loss: 1.3189... Val Loss: 1.3756\n",
            "Epoch: 8/10... Step: 1740... Loss: 1.3597... Val Loss: 1.3728\n",
            "Epoch: 8/10... Step: 1750... Loss: 1.3247... Val Loss: 1.3731\n",
            "Epoch: 8/10... Step: 1760... Loss: 1.3452... Val Loss: 1.3732\n",
            "Epoch: 8/10... Step: 1770... Loss: 1.2900... Val Loss: 1.3701\n",
            "Epoch: 8/10... Step: 1780... Loss: 1.3514... Val Loss: 1.3679\n",
            "Epoch: 9/10... Step: 1790... Loss: 1.3441... Val Loss: 1.3651\n",
            "Epoch: 9/10... Step: 1800... Loss: 1.3443... Val Loss: 1.3702\n",
            "Epoch: 9/10... Step: 1810... Loss: 1.3503... Val Loss: 1.3622\n",
            "Epoch: 9/10... Step: 1820... Loss: 1.3028... Val Loss: 1.3621\n",
            "Epoch: 9/10... Step: 1830... Loss: 1.3524... Val Loss: 1.3624\n",
            "Epoch: 9/10... Step: 1840... Loss: 1.3270... Val Loss: 1.3637\n",
            "Epoch: 9/10... Step: 1850... Loss: 1.3399... Val Loss: 1.3608\n",
            "Epoch: 9/10... Step: 1860... Loss: 1.3548... Val Loss: 1.3567\n",
            "Epoch: 9/10... Step: 1870... Loss: 1.3062... Val Loss: 1.3555\n",
            "Epoch: 9/10... Step: 1880... Loss: 1.2768... Val Loss: 1.3583\n",
            "Epoch: 9/10... Step: 1890... Loss: 1.3518... Val Loss: 1.3496\n",
            "Epoch: 9/10... Step: 1900... Loss: 1.3055... Val Loss: 1.3523\n",
            "Epoch: 9/10... Step: 1910... Loss: 1.3385... Val Loss: 1.3499\n",
            "Epoch: 9/10... Step: 1920... Loss: 1.3195... Val Loss: 1.3526\n",
            "Epoch: 9/10... Step: 1930... Loss: 1.3504... Val Loss: 1.3461\n",
            "Epoch: 9/10... Step: 1940... Loss: 1.2671... Val Loss: 1.3450\n",
            "Epoch: 9/10... Step: 1950... Loss: 1.3265... Val Loss: 1.3414\n",
            "Epoch: 9/10... Step: 1960... Loss: 1.2822... Val Loss: 1.3441\n",
            "Epoch: 9/10... Step: 1970... Loss: 1.2979... Val Loss: 1.3395\n",
            "Epoch: 9/10... Step: 1980... Loss: 1.2940... Val Loss: 1.3409\n",
            "Epoch: 9/10... Step: 1990... Loss: 1.2436... Val Loss: 1.3428\n",
            "Epoch: 9/10... Step: 2000... Loss: 1.2916... Val Loss: 1.3387\n",
            "Epoch: 10/10... Step: 2010... Loss: 1.2881... Val Loss: 1.3406\n",
            "Epoch: 10/10... Step: 2020... Loss: 1.3053... Val Loss: 1.3401\n",
            "Epoch: 10/10... Step: 2030... Loss: 1.2941... Val Loss: 1.3334\n",
            "Epoch: 10/10... Step: 2040... Loss: 1.2882... Val Loss: 1.3341\n",
            "Epoch: 10/10... Step: 2050... Loss: 1.2780... Val Loss: 1.3320\n",
            "Epoch: 10/10... Step: 2060... Loss: 1.3000... Val Loss: 1.3353\n",
            "Epoch: 10/10... Step: 2070... Loss: 1.2686... Val Loss: 1.3312\n",
            "Epoch: 10/10... Step: 2080... Loss: 1.3126... Val Loss: 1.3320\n",
            "Epoch: 10/10... Step: 2090... Loss: 1.3296... Val Loss: 1.3299\n",
            "Epoch: 10/10... Step: 2100... Loss: 1.2839... Val Loss: 1.3312\n",
            "Epoch: 10/10... Step: 2110... Loss: 1.3395... Val Loss: 1.3287\n",
            "Epoch: 10/10... Step: 2120... Loss: 1.2699... Val Loss: 1.3270\n",
            "Epoch: 10/10... Step: 2130... Loss: 1.3011... Val Loss: 1.3248\n",
            "Epoch: 10/10... Step: 2140... Loss: 1.3204... Val Loss: 1.3234\n",
            "Epoch: 10/10... Step: 2150... Loss: 1.3062... Val Loss: 1.3224\n",
            "Epoch: 10/10... Step: 2160... Loss: 1.2939... Val Loss: 1.3200\n",
            "Epoch: 10/10... Step: 2170... Loss: 1.2990... Val Loss: 1.3194\n",
            "Epoch: 10/10... Step: 2180... Loss: 1.2657... Val Loss: 1.3174\n",
            "Epoch: 10/10... Step: 2190... Loss: 1.2790... Val Loss: 1.3175\n",
            "Epoch: 10/10... Step: 2200... Loss: 1.2490... Val Loss: 1.3183\n",
            "Epoch: 10/10... Step: 2210... Loss: 1.2422... Val Loss: 1.3179\n",
            "Epoch: 10/10... Step: 2220... Loss: 1.2707... Val Loss: 1.3149\n",
            "Epoch: 10/10... Step: 2230... Loss: 1.3014... Val Loss: 1.3177\n"
          ],
          "name": "stdout"
        }
      ]
    },
    {
      "cell_type": "markdown",
      "metadata": {
        "id": "p3Z3kReUhGfY",
        "colab_type": "text"
      },
      "source": [
        "## Getting the best model\n",
        "\n",
        "To set your hyperparameters to get the best performance, you'll want to watch the training and validation losses. If your training loss is much lower than the validation loss, you're overfitting. Increase regularization (more dropout) or use a smaller network. If the training and validation losses are close, you're underfitting so you can increase the size of the network."
      ]
    },
    {
      "cell_type": "markdown",
      "metadata": {
        "id": "1z10Zf7WhGfZ",
        "colab_type": "text"
      },
      "source": [
        "## Hyperparameters\n",
        "\n",
        "Here are the hyperparameters for the network.\n",
        "\n",
        "In defining the model:\n",
        "* `n_hidden` - The number of units in the hidden layers.\n",
        "* `n_layers` - Number of hidden LSTM layers to use.\n",
        "\n",
        "We assume that dropout probability and learning rate will be kept at the default, in this example.\n",
        "\n",
        "And in training:\n",
        "* `batch_size` - Number of sequences running through the network in one pass.\n",
        "* `seq_length` - Number of characters in the sequence the network is trained on. Larger is better typically, the network will learn more long range dependencies. But it takes longer to train. 100 is typically a good number here.\n",
        "* `lr` - Learning rate for training\n",
        "\n",
        "Here's some good advice from Andrej Karpathy on training the network. I'm going to copy it in here for your benefit, but also link to [where it originally came from](https://github.com/karpathy/char-rnn#tips-and-tricks).\n",
        "\n",
        "> ## Tips and Tricks\n",
        "\n",
        ">### Monitoring Validation Loss vs. Training Loss\n",
        ">If you're somewhat new to Machine Learning or Neural Networks it can take a bit of expertise to get good models. The most important quantity to keep track of is the difference between your training loss (printed during training) and the validation loss (printed once in a while when the RNN is run on the validation data (by default every 1000 iterations)). In particular:\n",
        "\n",
        "> - If your training loss is much lower than validation loss then this means the network might be **overfitting**. Solutions to this are to decrease your network size, or to increase dropout. For example you could try dropout of 0.5 and so on.\n",
        "> - If your training/validation loss are about equal then your model is **underfitting**. Increase the size of your model (either number of layers or the raw number of neurons per layer)\n",
        "\n",
        "> ### Approximate number of parameters\n",
        "\n",
        "> The two most important parameters that control the model are `n_hidden` and `n_layers`. I would advise that you always use `n_layers` of either 2/3. The `n_hidden` can be adjusted based on how much data you have. The two important quantities to keep track of here are:\n",
        "\n",
        "> - The number of parameters in your model. This is printed when you start training.\n",
        "> - The size of your dataset. 1MB file is approximately 1 million characters.\n",
        "\n",
        ">These two should be about the same order of magnitude. It's a little tricky to tell. Here are some examples:\n",
        "\n",
        "> - I have a 100MB dataset and I'm using the default parameter settings (which currently print 150K parameters). My data size is significantly larger (100 mil >> 0.15 mil), so I expect to heavily underfit. I am thinking I can comfortably afford to make `n_hidden` larger.\n",
        "> - I have a 10MB dataset and running a 10 million parameter model. I'm slightly nervous and I'm carefully monitoring my validation loss. If it's larger than my training loss then I may want to try to increase dropout a bit and see if that helps the validation loss.\n",
        "\n",
        "> ### Best models strategy\n",
        "\n",
        ">The winning strategy to obtaining very good models (if you have the compute time) is to always err on making the network larger (as large as you're willing to wait for it to compute) and then try different dropout values (between 0,1). Whatever model has the best validation performance (the loss, written in the checkpoint filename, low is good) is the one you should use in the end.\n",
        "\n",
        ">It is very common in deep learning to run many different models with many different hyperparameter settings, and in the end take whatever checkpoint gave the best validation performance.\n",
        "\n",
        ">By the way, the size of your training and validation splits are also parameters. Make sure you have a decent amount of data in your validation set or otherwise the validation performance will be noisy and not very informative."
      ]
    },
    {
      "cell_type": "markdown",
      "metadata": {
        "id": "wMymKKDMhGfa",
        "colab_type": "text"
      },
      "source": [
        "## Checkpoint\n",
        "\n",
        "After training, we'll save the model so we can load it again later if we need too. Here I'm saving the parameters needed to create the same architecture, the hidden layer hyperparameters and the text characters."
      ]
    },
    {
      "cell_type": "code",
      "metadata": {
        "id": "Cyk9I9V3hGfc",
        "colab_type": "code",
        "colab": {}
      },
      "source": [
        "# change the name, for saving multiple files\n",
        "model_name = 'rnn_x_epoch.net'\n",
        "\n",
        "checkpoint = {'n_hidden': net.n_hidden,\n",
        "              'n_layers': net.n_layers,\n",
        "              'state_dict': net.state_dict(),\n",
        "              'tokens': net.chars}\n",
        "\n",
        "with open(model_name, 'wb') as f:\n",
        "    torch.save(checkpoint, f)"
      ],
      "execution_count": 0,
      "outputs": []
    },
    {
      "cell_type": "markdown",
      "metadata": {
        "id": "3oJ6GRq8hGfg",
        "colab_type": "text"
      },
      "source": [
        "---\n",
        "## Making Predictions\n",
        "\n",
        "Now that the model is trained, we'll want to sample from it and make predictions about next characters! To sample, we pass in a character and have the network predict the next character. Then we take that character, pass it back in, and get another predicted character. Just keep doing this and you'll generate a bunch of text!\n",
        "\n",
        "### A note on the `predict`  function\n",
        "\n",
        "The output of our RNN is from a fully-connected layer and it outputs a **distribution of next-character scores**.\n",
        "\n",
        "> To actually get the next character, we apply a softmax function, which gives us a *probability* distribution that we can then sample to predict the next character.\n",
        "\n",
        "### Top K sampling\n",
        "\n",
        "Our predictions come from a categorical probability distribution over all the possible characters. We can make the sample text and make it more reasonable to handle (with less variables) by only considering some $K$ most probable characters. This will prevent the network from giving us completely absurd characters while allowing it to introduce some noise and randomness into the sampled text. Read more about [topk, here](https://pytorch.org/docs/stable/torch.html#torch.topk).\n"
      ]
    },
    {
      "cell_type": "code",
      "metadata": {
        "id": "IR7DXNUVhGfh",
        "colab_type": "code",
        "colab": {}
      },
      "source": [
        "def predict(net, char, h=None, top_k=None):\n",
        "        ''' Given a character, predict the next character.\n",
        "            Returns the predicted character and the hidden state.\n",
        "        '''\n",
        "        \n",
        "        # tensor inputs\n",
        "        x = np.array([[net.char2int[char]]])\n",
        "        x = one_hot_encode(x, len(net.chars))\n",
        "        inputs = torch.from_numpy(x)\n",
        "        \n",
        "        if(train_on_gpu):\n",
        "            inputs = inputs.cuda()\n",
        "        \n",
        "        # detach hidden state from history\n",
        "        h = tuple([each.data for each in h])\n",
        "        # get the output of the model\n",
        "        out, h = net(inputs, h)\n",
        "\n",
        "        # get the character probabilities\n",
        "        p = F.softmax(out, dim=1).data\n",
        "        if(train_on_gpu):\n",
        "            p = p.cpu() # move to cpu\n",
        "        \n",
        "        # get top characters\n",
        "        if top_k is None:\n",
        "            top_ch = np.arange(len(net.chars))\n",
        "        else:\n",
        "            p, top_ch = p.topk(top_k)\n",
        "            top_ch = top_ch.numpy().squeeze()\n",
        "        \n",
        "        # select the likely next character with some element of randomness\n",
        "        p = p.numpy().squeeze()\n",
        "        char = np.random.choice(top_ch, p=p/p.sum())\n",
        "        \n",
        "        # return the encoded value of the predicted char and the hidden state\n",
        "        return net.int2char[char], h"
      ],
      "execution_count": 0,
      "outputs": []
    },
    {
      "cell_type": "markdown",
      "metadata": {
        "id": "ZK8VF2gBhGfp",
        "colab_type": "text"
      },
      "source": [
        "### Priming and generating text \n",
        "\n",
        "Typically you'll want to prime the network so you can build up a hidden state. Otherwise the network will start out generating characters at random. In general the first bunch of characters will be a little rough since it hasn't built up a long history of characters to predict from."
      ]
    },
    {
      "cell_type": "code",
      "metadata": {
        "id": "XW6nx5fzhGfq",
        "colab_type": "code",
        "colab": {}
      },
      "source": [
        "def sample(net, size, prime='The', top_k=None):\n",
        "        \n",
        "    if(train_on_gpu):\n",
        "        net.cuda()\n",
        "    else:\n",
        "        net.cpu()\n",
        "    \n",
        "    net.eval() # eval mode\n",
        "    \n",
        "    # First off, run through the prime characters\n",
        "    chars = [ch for ch in prime]\n",
        "    h = net.init_hidden(1)\n",
        "    for ch in prime:\n",
        "        char, h = predict(net, ch, h, top_k=top_k)\n",
        "\n",
        "    chars.append(char)\n",
        "    \n",
        "    # Now pass in the previous character and get a new one\n",
        "    for ii in range(size):\n",
        "        char, h = predict(net, chars[-1], h, top_k=top_k)\n",
        "        chars.append(char)\n",
        "\n",
        "    return ''.join(chars)"
      ],
      "execution_count": 0,
      "outputs": []
    },
    {
      "cell_type": "code",
      "metadata": {
        "id": "2tyxJOMEhGfu",
        "colab_type": "code",
        "colab": {
          "base_uri": "https://localhost:8080/",
          "height": 360
        },
        "outputId": "94233c42-036f-40c9-8e88-ad80c1e8bc26"
      },
      "source": [
        "print(sample(net, 1000, prime='Anna', top_k=5))"
      ],
      "execution_count": 31,
      "outputs": [
        {
          "output_type": "stream",
          "text": [
            "Anna, when they've boubody first of the minutes the class of sees to the peasant, where is that...\" she said all that he had seemed in, and holding he without having the prover of time with a state. \"He's a sorion word\n",
            "as I suppose I walk to me out!\"\n",
            "\n",
            "\"When I'm a child will see him, the positive candors with me? How do you seat them, but you say at an answer.\"\n",
            "\n",
            "After all of the did this desires to come to be subject\n",
            "with\n",
            "her at the princess. \"I shool's sool if you know you and I can't be ablo to take\n",
            "a shint ore, that\n",
            "I have seen it.\"\n",
            "\n",
            "\"Well, I\n",
            "can detire.\"\n",
            "\n",
            "\"Yes, I wold any\n",
            "staying of his brother's arm to the mother in the conversation one of the place, but as he said the party\n",
            "would ask\n",
            "more standing of their mind about the set of strain and that he saw some months. At the carriage we won't sen at me of me waiting and set that you're branky, but I soon to go, you know himself, and all\n",
            "the children and a minute it was not the passed a side.......\" she said as he saw that the morning he had\n"
          ],
          "name": "stdout"
        }
      ]
    },
    {
      "cell_type": "markdown",
      "metadata": {
        "id": "XhnocWOahGf4",
        "colab_type": "text"
      },
      "source": [
        "## Loading a checkpoint"
      ]
    },
    {
      "cell_type": "code",
      "metadata": {
        "id": "L8JcFBSVhGf5",
        "colab_type": "code",
        "colab": {
          "base_uri": "https://localhost:8080/",
          "height": 34
        },
        "outputId": "b9a7662f-07c4-45a6-da13-5c119d9c139e"
      },
      "source": [
        "# Here we have loaded in a model that trained over 20 epochs `rnn_20_epoch.net`\n",
        "with open('rnn_x_epoch.net', 'rb') as f:\n",
        "    checkpoint = torch.load(f)\n",
        "    \n",
        "loaded = CharRNN(checkpoint['tokens'], n_hidden=checkpoint['n_hidden'], n_layers=checkpoint['n_layers'])\n",
        "loaded.load_state_dict(checkpoint['state_dict'])"
      ],
      "execution_count": 32,
      "outputs": [
        {
          "output_type": "execute_result",
          "data": {
            "text/plain": [
              "<All keys matched successfully>"
            ]
          },
          "metadata": {
            "tags": []
          },
          "execution_count": 32
        }
      ]
    },
    {
      "cell_type": "code",
      "metadata": {
        "id": "2MKKyFTLhGf_",
        "colab_type": "code",
        "colab": {
          "base_uri": "https://localhost:8080/",
          "height": 717
        },
        "outputId": "287bdbee-d65d-4633-bae2-d8dea02b5a06"
      },
      "source": [
        "# Sample using a loaded model\n",
        "print(sample(loaded, 2000, top_k=5, prime=\"And Levin said\"))"
      ],
      "execution_count": 33,
      "outputs": [
        {
          "output_type": "stream",
          "text": [
            "And Levin said with his wife and asked that she was\n",
            "saying that the people\n",
            "was not something as a prist of suddenly and the did as it sat that she went into the priest and\n",
            "to her, and so his brother had been day the doctor. He showed in the man and their communies and the children's accepting\n",
            "his cousin. Stepan Arkadyevitch had as a steps.\n",
            "\n",
            "\"I'm stopping the proverture, I soon all she don't say that I shall gried, but I have the\n",
            "conversation.\"\n",
            "\n",
            "\"One will all me?\"\n",
            "\n",
            "\"I will birse the\n",
            "painful times too, that I shall be? He's this is another position,\" said the most\n",
            "children.\n",
            "The dank stringed and short, when there was not some difficulty and a sensation of service in\n",
            "times to say about him. She drew a conversation over her face which still showing him the country.\n",
            "\n",
            "\"Yes, that is it alone?\"\n",
            "\n",
            "\"I'm any seeing the marshal of such\n",
            "a did the sama time we such sid the people as it would still much an official son.\n",
            "Thim was the children. I say it was it.\"\n",
            "\n",
            "\"What? How's short till you have not to see that the concert of him, I set them is the consideration. They have not to be to believe it all this art in his brother,\n",
            "and at the stand as he was, and she was as he won't but still or to suppose, but that is want off a man with a\n",
            "peasant\n",
            "wishing to say to the\n",
            "stern condution.\n",
            "In the words were now with a post in them, and he had to\n",
            "seen, and the morn of her brother's wife asked her\n",
            "with his heart with his hand and answering his will. She did not say so a side of something service and the creaked times a man and\n",
            "hope, and asking a companions he went on himself when he was strange at the decision of the most pate in a long and which the conversation was not still it to see her.\n",
            "\n",
            "\"Oh, you must go and was not this answer. How do yesterday that is\n",
            "an intimate! I\n",
            "don't know it's a\n",
            "peeping for a sharp and things. It's a long, and as I've not, shall a married are, but I shall. With you any a men of\n",
            "the same musch of strings of my strict.\"\n",
            "\n",
            "\"What is this, I am subled a sont white sors alone that is the \n"
          ],
          "name": "stdout"
        }
      ]
    },
    {
      "cell_type": "code",
      "metadata": {
        "id": "VQvCNMUfhGgJ",
        "colab_type": "code",
        "colab": {}
      },
      "source": [
        ""
      ],
      "execution_count": 0,
      "outputs": []
    }
  ]
}